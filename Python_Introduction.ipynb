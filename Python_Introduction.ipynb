{
  "nbformat": 4,
  "nbformat_minor": 0,
  "metadata": {
    "colab": {
      "provenance": [],
      "include_colab_link": true
    },
    "kernelspec": {
      "name": "python3",
      "display_name": "Python 3"
    }
  },
  "cells": [
    {
      "cell_type": "markdown",
      "metadata": {
        "id": "view-in-github",
        "colab_type": "text"
      },
      "source": [
        "<a href=\"https://colab.research.google.com/github/ashigupta99/Finlatics_Python_ML/blob/main/Python_Introduction.ipynb\" target=\"_parent\"><img src=\"https://colab.research.google.com/assets/colab-badge.svg\" alt=\"Open In Colab\"/></a>"
      ]
    },
    {
      "cell_type": "markdown",
      "metadata": {
        "id": "UitGBjSOFT_w"
      },
      "source": [
        "# Introduction to Python"
      ]
    },
    {
      "cell_type": "markdown",
      "metadata": {
        "id": "_KC3Og55I0F4"
      },
      "source": [
        "**Colab Notebook**  \n",
        "You can install python in your device or use a python notebook\n",
        "\n",
        "To run a notebook:\n",
        "* You can use jupyter notebook on your system\n",
        "* You can use google colaboratory\n",
        "\n",
        "Google Colaboratory provides you an environment to run your python noteboook and also provide access to google cloud servers to run your code."
      ]
    },
    {
      "cell_type": "markdown",
      "metadata": {
        "id": "G8V8e20zGchq"
      },
      "source": [
        "**Some points to remember:**\n",
        "* Python uses identation to separate blocks of code, so take care while using whitespaces in your code\n",
        "* To comment a single line of code , use `#` symbol\n",
        "* To comment a section a code, press `Ctrl + /`\n",
        "* print statement to print strings is shown below\n"
      ]
    },
    {
      "cell_type": "code",
      "metadata": {
        "id": "-sAy6WDUIMpa",
        "colab": {
          "base_uri": "https://localhost:8080/"
        },
        "outputId": "ead6e229-3575-4081-8127-07bbdf8b7c09"
      },
      "source": [
        "# To print stuff in python, write print(\"Some string\")\n",
        "print(\"true\")"
      ],
      "execution_count": null,
      "outputs": [
        {
          "output_type": "stream",
          "name": "stdout",
          "text": [
            "true\n"
          ]
        }
      ]
    },
    {
      "cell_type": "markdown",
      "metadata": {
        "id": "nKCL37bzXtu1"
      },
      "source": [
        "#Data Types"
      ]
    },
    {
      "cell_type": "markdown",
      "metadata": {
        "id": "ndfhmOPmcFyE"
      },
      "source": [
        "**Numeric type:**  `int`, `float`, `complex`\n",
        "\n",
        "**Character type:**  `str`\n",
        "\n",
        "**Boolean type:**  `bool`\n",
        "\n",
        "###Some additional data types available in python which come handy are:\n",
        "\n",
        "\n",
        "*   `list`: Lists are used to store **multiple items in a single variable**, similar to array in other languages\n",
        "*   `dict`: Dictionaries are used to store data values in **key:value pairs**.\n",
        "*   `tuple`: Tuples are similar to lists except the fact that tuples are **immutable** i.e they cannot be changed after they are created.\n"
      ]
    },
    {
      "cell_type": "code",
      "source": [
        "78%10\n"
      ],
      "metadata": {
        "colab": {
          "base_uri": "https://localhost:8080/"
        },
        "id": "zvi6LnZECh2t",
        "outputId": "4d5660b1-9a68-436f-f966-fe5c0f957e1d"
      },
      "execution_count": null,
      "outputs": [
        {
          "output_type": "execute_result",
          "data": {
            "text/plain": [
              "8"
            ]
          },
          "metadata": {},
          "execution_count": 5
        }
      ]
    },
    {
      "cell_type": "code",
      "source": [
        "a = \"p\""
      ],
      "metadata": {
        "id": "Y2bknTgdEdzn"
      },
      "execution_count": null,
      "outputs": []
    },
    {
      "cell_type": "markdown",
      "metadata": {
        "id": "Opk6O99bXg1V"
      },
      "source": [
        "###To know the data type of any variable or constant, use `type()` function.\n",
        "\n",
        "`type(x)`: returns the data type of x\n"
      ]
    },
    {
      "cell_type": "code",
      "metadata": {
        "id": "YbjeyjKzaEm1",
        "colab": {
          "base_uri": "https://localhost:8080/"
        },
        "outputId": "416c8a1f-c329-4e5b-826f-5fb4c28d59eb"
      },
      "source": [
        "x=False\n",
        "print(type(x))"
      ],
      "execution_count": null,
      "outputs": [
        {
          "output_type": "stream",
          "text": [
            "<class 'bool'>\n"
          ],
          "name": "stdout"
        }
      ]
    },
    {
      "cell_type": "code",
      "metadata": {
        "id": "PxKIeTmOfMNg"
      },
      "source": [
        "x=[2,5,3,'Hi', 23.56]\n",
        "print(type(x))"
      ],
      "execution_count": null,
      "outputs": []
    },
    {
      "cell_type": "markdown",
      "metadata": {
        "id": "W31O_brxhnQC"
      },
      "source": [
        "#Variables"
      ]
    },
    {
      "cell_type": "markdown",
      "metadata": {
        "id": "hLLPmHnU_NF4"
      },
      "source": [
        "Variables are used in programming to store data, which we can retrive, store and change at command.\n",
        "\n",
        "There is no need to declare the variables. variables are created during runtime automatically with their data types when they are assigned.\n",
        "\n",
        "There are some rules that should be followed while naming a variable:\n",
        "*    Variable name can contain characters like lower case and uppercase letters (`a,b,c,...z` and `A,B,C,...Z`), numbers (`0,1,2...`) and underscore (`_`)\n",
        "*   Variable name cannot start with a number.\n",
        "*   Variable names are case-sensitive and should be unique.\n",
        "\n",
        "\n",
        "\n",
        "\n"
      ]
    },
    {
      "cell_type": "code",
      "metadata": {
        "id": "ePBC8C3fJ8Ds"
      },
      "source": [
        "# Legal variable names\n",
        "intvar  = 4  # legal integer variable name\n",
        "Intvar = 5\n",
        "INTVAR  = 8  # variables are case-sensitive\n",
        "int_var = 5  # underscore is allowed\n",
        "intvar2 = 9  # numbers are allowed except at the start of variable name\n",
        "_intvar = 1  # name can begin with an underscore"
      ],
      "execution_count": null,
      "outputs": []
    },
    {
      "cell_type": "code",
      "metadata": {
        "id": "07RlTWOOKocl"
      },
      "source": [
        "# Invalid variable names\n",
        "# 2intvar = 5 # variable name cannot begin with number\n",
        "# intvar$ = 3 # '$' character is not allowed\n",
        "# int ar = 5 # space is not allowed in the variable name"
      ],
      "execution_count": null,
      "outputs": []
    },
    {
      "cell_type": "markdown",
      "metadata": {
        "id": "eIt1XBaONG60"
      },
      "source": [
        "**Some conventions for variable names:**"
      ]
    },
    {
      "cell_type": "code",
      "metadata": {
        "id": "qMjKIg7rLKni"
      },
      "source": [
        "intVar  = 10  # Use camel case for variable name containing multiple words\n",
        "int_var = 7   # you can also underscores to separate words\n",
        "\n",
        "# Follow a convention throughout the code to prevent confusion\n",
        "# Also use mnemonics for variable names to remember them easily"
      ],
      "execution_count": null,
      "outputs": []
    },
    {
      "cell_type": "markdown",
      "metadata": {
        "id": "ckjzc07fM9H6"
      },
      "source": [
        "**Python allows multiple assignment in a single statement:**"
      ]
    },
    {
      "cell_type": "code",
      "metadata": {
        "id": "vWI6jUOYMAO9",
        "colab": {
          "base_uri": "https://localhost:8080/"
        },
        "outputId": "9fa681a5-4c83-430a-fc18-a78838b0f9b1"
      },
      "source": [
        "# x=1\n",
        "# y=2\n",
        "# z=3\n",
        "\n",
        "x, y, z = 8, 2, 3   #1 would be assigned to x , 2 to y and 3 to z\n",
        "# print(\"x: \", end='')\n",
        "print(x)\n",
        "print(\"y: %d\" %(y))\n",
        "print(\"z: %d\" %(z))\n",
        "print(\"x: %d y: %d z: %d\" %(x, y, z))"
      ],
      "execution_count": null,
      "outputs": [
        {
          "output_type": "stream",
          "text": [
            "8\n",
            "y: 2\n",
            "z: 3\n",
            "x: 8 y: 2 z: 3\n"
          ],
          "name": "stdout"
        }
      ]
    },
    {
      "cell_type": "code",
      "metadata": {
        "id": "Mfh11fYcORla",
        "colab": {
          "base_uri": "https://localhost:8080/"
        },
        "outputId": "caa6485f-eb15-475c-c63a-4840be10e1b5"
      },
      "source": [
        "a, b, c = 1, 'Hi', 23.56  # variables could be of different type\n",
        "print('a: %d' %(a))\n",
        "print('b: %s' %(b))\n",
        "print('c: %f' %(c))"
      ],
      "execution_count": null,
      "outputs": [
        {
          "output_type": "stream",
          "text": [
            "a: 1\n",
            "b: Hi\n",
            "c: 23.560000\n"
          ],
          "name": "stdout"
        }
      ]
    },
    {
      "cell_type": "markdown",
      "metadata": {
        "id": "_kdy5q2tNSFv"
      },
      "source": [
        "**Print formatting in python:**"
      ]
    },
    {
      "cell_type": "code",
      "metadata": {
        "id": "caZaPBNaMpHO",
        "colab": {
          "base_uri": "https://localhost:8080/"
        },
        "outputId": "88c4e42b-29db-400a-f5b9-5bc07b8954e5"
      },
      "source": [
        "print('For integer, use %d' %(23))\n",
        "print('For float values, use %.3f' %(0.76)) # 0.3 shows that only three-decimal digits would be printed\n",
        "print('For strings, use %s' %('this'))\n",
        "\n",
        "# You could look more about by searching for format specifiers\n",
        "# They are similar to the ones you use in C/C++"
      ],
      "execution_count": null,
      "outputs": [
        {
          "output_type": "stream",
          "text": [
            "For integer, use 23\n",
            "For float values, use 0.760\n",
            "For strings, use this\n"
          ],
          "name": "stdout"
        }
      ]
    },
    {
      "cell_type": "markdown",
      "metadata": {
        "id": "qGaUxJ6iO8DN"
      },
      "source": [
        "**Integer variable operations:**"
      ]
    },
    {
      "cell_type": "code",
      "metadata": {
        "id": "woi3enhwPEOZ",
        "colab": {
          "base_uri": "https://localhost:8080/"
        },
        "outputId": "3bc2c55d-4b49-440d-d289-633cc0b19aa1"
      },
      "source": [
        "x = 45\n",
        "y = 7\n",
        "sum       = x + y  # arithmetic sum\n",
        "diff      = x - y  # difference between x and y\n",
        "prod      = x * y  # multiplies x and y\n",
        "expo      = x ** y # gives x raised to power of y\n",
        "floatDiv  = x / y  # gives floating popint value of x divided by y\n",
        "intDiv    = x // y # gives integer part of value of x divided by y\n",
        "remain    = x % y  # give remainder from dividing x by y\n",
        "\n",
        "print('sum = %d' %(sum))\n",
        "print('difference = %d' %(diff))\n",
        "print('product = %d' %(prod))\n",
        "print('exponent = %d' %(expo))\n",
        "print('floatDiv = %f' %(floatDiv))\n",
        "print('intDiv = %d' %(intDiv))\n",
        "print('remainder = %d' %(remain))"
      ],
      "execution_count": null,
      "outputs": [
        {
          "output_type": "stream",
          "text": [
            "sum = 52\n",
            "difference = 38\n",
            "product = 315\n",
            "exponent = 373669453125\n",
            "floatDiv = 6.428571\n",
            "intDiv = 6\n",
            "remainder = 3\n"
          ],
          "name": "stdout"
        }
      ]
    },
    {
      "cell_type": "code",
      "metadata": {
        "id": "Pu-DSDjWSlTZ",
        "colab": {
          "base_uri": "https://localhost:8080/"
        },
        "outputId": "499b5bcc-cd25-402e-fe0e-043e556120f8"
      },
      "source": [
        "# You can use these short-hand notations for assignments\n",
        "x = 5\n",
        "\n",
        "x += 4 # x = x + 4\n",
        "print('x after addition: %d' %(x))\n",
        "\n",
        "x -= 1\n",
        "print(\"x after subtraction: %d\" %(x))\n",
        "\n",
        "x *= 3.7\n",
        "print('x after multiplication: %d' %(x))\n",
        "\n",
        "x %= 7\n",
        "print('x after modulus: %d' %(x))"
      ],
      "execution_count": null,
      "outputs": [
        {
          "output_type": "stream",
          "text": [
            "x after addition: 9\n",
            "x after subtraction: 8\n",
            "x after multiplication: 29\n",
            "x after modulus: 1\n"
          ],
          "name": "stdout"
        }
      ]
    },
    {
      "cell_type": "markdown",
      "metadata": {
        "id": "3_H1ojLNpYvA"
      },
      "source": [
        "**Boolean variable operations:**"
      ]
    },
    {
      "cell_type": "code",
      "metadata": {
        "id": "_W1hl0v4peLj",
        "colab": {
          "base_uri": "https://localhost:8080/"
        },
        "outputId": "67852e94-9626-480f-a177-f11348cb298b"
      },
      "source": [
        "# Boolean values: True or False\n",
        "a = 'True'\n",
        "b = False\n",
        "\n",
        "print(type(a))"
      ],
      "execution_count": null,
      "outputs": [
        {
          "output_type": "stream",
          "text": [
            "<class 'str'>\n"
          ],
          "name": "stdout"
        }
      ]
    },
    {
      "cell_type": "code",
      "metadata": {
        "id": "fYXtqJuoss5l",
        "colab": {
          "base_uri": "https://localhost:8080/"
        },
        "outputId": "339f8ce3-7793-4ae4-df69-c1432c5bdcb9"
      },
      "source": [
        "# Conditional operators returns boolean values\n",
        "a = 2<3\n",
        "b = 5>3\n",
        "c = 'Hi'=='Hello'\n",
        "d = type(2.1)== int\n",
        "e = 'c' !='Hi'\n",
        "\n",
        "print('a: %d' %(a))\n",
        "print('b: %s' %(b))\n",
        "print('c: %s' %(c))\n",
        "print('d: %d' %(d))\n",
        "print('e: %s' %(e))"
      ],
      "execution_count": null,
      "outputs": [
        {
          "output_type": "stream",
          "name": "stdout",
          "text": [
            "a: 1\n",
            "b: True\n",
            "c: False\n",
            "d: 0\n",
            "e: True\n"
          ]
        }
      ]
    },
    {
      "cell_type": "code",
      "source": [
        "print(\"a :\", a)"
      ],
      "metadata": {
        "colab": {
          "base_uri": "https://localhost:8080/"
        },
        "id": "OAgrpHRTJHrd",
        "outputId": "afa2b3bd-529a-4d1e-ba37-2c34163d70f5"
      },
      "execution_count": null,
      "outputs": [
        {
          "output_type": "stream",
          "name": "stdout",
          "text": [
            "a : True\n"
          ]
        }
      ]
    },
    {
      "cell_type": "code",
      "metadata": {
        "id": "8n7NoF0_u-Y5",
        "colab": {
          "base_uri": "https://localhost:8080/"
        },
        "outputId": "133c3d3c-cedc-4be1-fac1-2c8a5a13543f"
      },
      "source": [
        "# Boolean type converison\n",
        "\n",
        "# int to bool\n",
        "a = bool(2)\n",
        "b = bool(21347234892)\n",
        "\n",
        "# float to bool\n",
        "c = bool(78.9)\n",
        "d = bool(0.0)\n",
        "\n",
        "# str to bool\n",
        "e = bool('False')\n",
        "f = bool('')\n",
        "\n",
        "# list to bool\n",
        "g = bool([1, 'Y20', 23.45])\n",
        "h = bool([])\n",
        "\n",
        "print('a: %s' %(a))\n",
        "print('b: %s' %(b))\n",
        "print('c: %s' %(c))\n",
        "print('d: %s' %(d))\n",
        "print('e: %s' %(e))\n",
        "print('f: %s' %(f))\n",
        "print('g: %s' %(g))\n",
        "print('h: %s' %(h))"
      ],
      "execution_count": null,
      "outputs": [
        {
          "output_type": "stream",
          "text": [
            "a: True\n",
            "b: True\n",
            "c: True\n",
            "d: False\n",
            "e: True\n",
            "f: False\n",
            "g: True\n",
            "h: False\n"
          ],
          "name": "stdout"
        }
      ]
    },
    {
      "cell_type": "markdown",
      "metadata": {
        "id": "ea1nBpZMSZvP"
      },
      "source": [
        "**String variable operations:**"
      ]
    },
    {
      "cell_type": "code",
      "metadata": {
        "id": "WbOr7XSfUbS8",
        "colab": {
          "base_uri": "https://localhost:8080/"
        },
        "outputId": "5cd686dd-b395-4367-ca37-ff32993eebf6"
      },
      "source": [
        "# You can directly assign single line strings using single or double quotes\n",
        "x = 'Single quotes'\n",
        "y = \"Double quotes\"\n",
        "\n",
        "# For multi-line strings, use three single or double quotes\n",
        "a = '''This is a multi-line\n",
        "string using single\n",
        "quotes'''\n",
        "\n",
        "b = \"\"\"This is a multi-line\n",
        "string using double\n",
        "quotes\"\"\"\n",
        "\n",
        "print('a:')\n",
        "print(a)\n",
        "#print('\\n') # this is an escape sequence which shifts the cursor to the next line\n",
        "print('b:')\n",
        "print(b)"
      ],
      "execution_count": null,
      "outputs": [
        {
          "output_type": "stream",
          "text": [
            "a:\n",
            "This is a multi-line\n",
            "string using single\n",
            "quotes\n",
            "b:\n",
            "This is a multi-line\n",
            "string using double\n",
            "quotes\n"
          ],
          "name": "stdout"
        }
      ]
    },
    {
      "cell_type": "code",
      "metadata": {
        "id": "H0kNTR5BSdtJ",
        "colab": {
          "base_uri": "https://localhost:8080/"
        },
        "outputId": "7b683f33-dcbd-48f7-ed5a-539eb73a1d6b"
      },
      "source": [
        "# '+' operator concatenates two strings\n",
        "x = \"Joey doesn't \"\n",
        "y = \"share food!!!\"\n",
        "z = x + y\n",
        "\n",
        "print('%s' %(x))\n",
        "print('y: %s' %(y))\n",
        "print('z: %s' %(z))\n",
        "print(\"Hi\"+\"Hello\")"
      ],
      "execution_count": null,
      "outputs": [
        {
          "output_type": "stream",
          "text": [
            "Joey doesn't\n",
            "y: share food!!!\n",
            "z: Joey doesn'tshare food!!!\n",
            "HiHello\n"
          ],
          "name": "stdout"
        }
      ]
    },
    {
      "cell_type": "code",
      "metadata": {
        "id": "3mFZWX-eTylr",
        "colab": {
          "base_uri": "https://localhost:8080/"
        },
        "outputId": "cca33c02-425a-47bc-a289-a2cd97a98573"
      },
      "source": [
        "# Characters in a string can be accessed as elements in an array are accessed\n",
        "s = 'BAZINGA!'\n",
        "print('Second character: %s' %(s[1]))      # Python uses 0-indexing\n",
        "print(\"First Character %s\" %(s[0]))\n",
        "print('Last character: %s' %(s[8]))        # -1 index refers to the last index of the string\n",
        "print('Last third character: %s' %(s[-3]))  # negative indices run right to left starting from -1"
      ],
      "execution_count": null,
      "outputs": [
        {
          "output_type": "stream",
          "text": [
            "Second character: A\n",
            "First Character B\n",
            "Last character: B\n",
            "Last third character: G\n"
          ],
          "name": "stdout"
        }
      ]
    },
    {
      "cell_type": "markdown",
      "metadata": {
        "id": "192EcOK9YECp"
      },
      "source": [
        "**Slicing operations in strings:**\n",
        "\n",
        "You can access a substring using the slicing syntax\n",
        "\n",
        "     s[start_index : end_index : step]\n",
        "*  `start_index` is included in the substring\n",
        "\n",
        "*  `end_index` is not included in the substring\n",
        "\n",
        "if any of the values is not given, default is used: default value for\n",
        "* `start_index` = `0`\n",
        "* `end_index` = `len(s)`\n",
        "*  `step` = `1`"
      ]
    },
    {
      "cell_type": "code",
      "metadata": {
        "id": "sNjldBkiXS2I",
        "colab": {
          "base_uri": "https://localhost:8080/"
        },
        "outputId": "7b7beefb-6fc5-4c16-e4d8-d343e25e73c6"
      },
      "source": [
        "s = 'We were on a break!!'\n",
        "\n",
        "a = s[3:12:1] # gives substring starting from index 3 to 11\n",
        "print('a: %s' %(a))\n",
        "\n",
        "b = s[0:20:2] # gives substring starting from index 0 to 19 but with alternate letters\n",
        "print('b: %s' %(b))\n",
        "\n",
        "c = s[3::1] # gives substring starting from index 3 to last index\n",
        "print('c: %s' %(c))\n",
        "\n",
        "d = s[3:12:] # gives substring starting from index 3 to 11 with default step size of 1\n",
        "print('d: %s' %(d))\n",
        "\n",
        "e = s[:12:] # gives substring starting from index 0 to 11 with step size 1\n",
        "print('e: %s' %(e))\n",
        "\n",
        "f = s[:9] # gives substring starting from index 0 to 8 with step size 1\n",
        "print('e: %s' %(f))\n",
        "\n",
        "g = s[3:-2:1]\n",
        "print('g %s ' %(g))"
      ],
      "execution_count": null,
      "outputs": [
        {
          "output_type": "stream",
          "text": [
            "a: were on a\n",
            "b: W eeo  ra!\n",
            "c: were on a break!!\n",
            "d: were on a\n",
            "e: We were on a\n",
            "e: We were o\n",
            "g were on a break \n"
          ],
          "name": "stdout"
        }
      ]
    },
    {
      "cell_type": "code",
      "metadata": {
        "id": "l8bHZevDYBoz",
        "colab": {
          "base_uri": "https://localhost:8080/"
        },
        "outputId": "595fff3f-071f-496e-d1c0-217d90309cda"
      },
      "source": [
        "# Negative indices can also be used\n",
        "\n",
        "s = 'Challenge accepted!'\n",
        "\n",
        "a = s[-1::-1] # reverses the string\n",
        "print('a: %s' %(a))\n",
        "\n",
        "b = s[:-3:] # prints the string except the last 3 characters\n",
        "print('b: %s' %(b))"
      ],
      "execution_count": null,
      "outputs": [
        {
          "output_type": "stream",
          "text": [
            "a: !detpecca egnellahC\n",
            "b: Challenge accept\n"
          ],
          "name": "stdout"
        }
      ]
    },
    {
      "cell_type": "markdown",
      "metadata": {
        "id": "C_mHfaHUx-_1"
      },
      "source": [
        "**List operations:**"
      ]
    },
    {
      "cell_type": "code",
      "metadata": {
        "id": "ABBVLPXHyCV3",
        "colab": {
          "base_uri": "https://localhost:8080/"
        },
        "outputId": "4d466c22-b919-4671-ca9c-4d0eb6126533"
      },
      "source": [
        "# Create a list\n",
        "\n",
        "a = []  # empty list\n",
        "print(a)\n",
        "print(type(a))"
      ],
      "execution_count": null,
      "outputs": [
        {
          "output_type": "stream",
          "text": [
            "[]\n",
            "<class 'list'>\n"
          ],
          "name": "stdout"
        }
      ]
    },
    {
      "cell_type": "code",
      "metadata": {
        "id": "ywK7HcoYyRn0",
        "colab": {
          "base_uri": "https://localhost:8080/"
        },
        "outputId": "74ccac8b-3222-4d15-e728-3f276e8f7554"
      },
      "source": [
        "b = ['Hi', '23', True] # list can contain data of different types\n",
        "print(b[0:2])\n",
        "print(type(b))"
      ],
      "execution_count": null,
      "outputs": [
        {
          "output_type": "stream",
          "text": [
            "Hi\n",
            "23\n",
            "<class 'list'>\n"
          ],
          "name": "stdout"
        }
      ]
    },
    {
      "cell_type": "code",
      "metadata": {
        "id": "4I7Y4bjvypWD",
        "colab": {
          "base_uri": "https://localhost:8080/"
        },
        "outputId": "bf8dc17d-8bce-4b6a-816e-dd5119ec9e11"
      },
      "source": [
        "c = list('232')\n",
        "print(c)\n",
        "print(type(c))"
      ],
      "execution_count": null,
      "outputs": [
        {
          "output_type": "stream",
          "text": [
            "['2', '3', '2']\n",
            "<class 'list'>\n"
          ],
          "name": "stdout"
        }
      ]
    },
    {
      "cell_type": "code",
      "metadata": {
        "id": "dwHZHO0Wzbhe",
        "colab": {
          "base_uri": "https://localhost:8080/"
        },
        "outputId": "9f43e7d2-e4ab-4eb4-8901-3c2975b7ab55"
      },
      "source": [
        "# Access an element\n",
        "# Elements can be accessed in the same way as done in strings\n",
        "\n",
        "ls = [5, 'Hi', True, 56.98]\n",
        "print(\"Second element: %s\" %(ls[2]))   # 0-indexing\n",
        "print(\"Last element: %0.2f\" %(ls[-1]))    # negative indices start from last element and go right to left\n",
        "\n"
      ],
      "execution_count": null,
      "outputs": [
        {
          "output_type": "stream",
          "text": [
            "Second element: True\n",
            "Last element: 56.98\n"
          ],
          "name": "stdout"
        }
      ]
    },
    {
      "cell_type": "code",
      "metadata": {
        "id": "OjjAUaaP02_e",
        "colab": {
          "base_uri": "https://localhost:8080/"
        },
        "outputId": "4986686f-ef01-49e0-ff39-c0e9c6ddfbb4"
      },
      "source": [
        "# Slicing in lists\n",
        "# Slicing is done in the same way as done in strings\n",
        "\n",
        "l =  [5, 'Hi', True, 56.98]\n",
        "\n",
        "a = l[:3:2]\n",
        "print(a)"
      ],
      "execution_count": null,
      "outputs": [
        {
          "output_type": "stream",
          "text": [
            "[5, True]\n"
          ],
          "name": "stdout"
        }
      ]
    },
    {
      "cell_type": "code",
      "metadata": {
        "id": "iZxfpRLN1QM0",
        "colab": {
          "base_uri": "https://localhost:8080/"
        },
        "outputId": "4221c5cb-3155-4047-ea6c-ad5bc0754d04"
      },
      "source": [
        "b = l[1:]\n",
        "print(b)"
      ],
      "execution_count": null,
      "outputs": [
        {
          "output_type": "stream",
          "text": [
            "['Hi', True, 56.98]\n"
          ],
          "name": "stdout"
        }
      ]
    },
    {
      "cell_type": "code",
      "metadata": {
        "id": "EcS8zweo1VEN",
        "colab": {
          "base_uri": "https://localhost:8080/"
        },
        "outputId": "1e1b732a-f7ee-425d-8d4c-bc22a888dfb1"
      },
      "source": [
        "c = l[:-2]\n",
        "print(c)"
      ],
      "execution_count": null,
      "outputs": [
        {
          "output_type": "stream",
          "text": [
            "[5, 'Hi']\n"
          ],
          "name": "stdout"
        }
      ]
    },
    {
      "cell_type": "code",
      "metadata": {
        "id": "rXZkbi4x1dgd",
        "colab": {
          "base_uri": "https://localhost:8080/"
        },
        "outputId": "375d626f-406e-45be-d827-db15132a66d0"
      },
      "source": [
        "# Modifying elements in the list\n",
        "# Any element can be modified by assigning the new value\n",
        "\n",
        "ls = [5, 'Hi', True, 56.98]\n",
        "\n",
        "ls[2] = 'Hello'\n",
        "print(ls)"
      ],
      "execution_count": null,
      "outputs": [
        {
          "output_type": "stream",
          "text": [
            "[5, 'Hi', 'Hello', 56.98]\n"
          ],
          "name": "stdout"
        }
      ]
    },
    {
      "cell_type": "code",
      "metadata": {
        "id": "1IS3Wtep2UIS",
        "colab": {
          "base_uri": "https://localhost:8080/"
        },
        "outputId": "e0322ebe-783c-4416-fcde-630d2c2d097b"
      },
      "source": [
        "# Range of values can be changed using slicing\n",
        "ls = [5, 'Hi', True, 56.98]\n",
        "ls[2:1:-1] = [[23,67]]  # you can add another list to a list\n",
        "print(ls)"
      ],
      "execution_count": null,
      "outputs": [
        {
          "output_type": "stream",
          "text": [
            "[5, 'Hi', [23, 67], 56.98]\n"
          ],
          "name": "stdout"
        }
      ]
    },
    {
      "cell_type": "code",
      "metadata": {
        "id": "NxlnZjPq5klK",
        "colab": {
          "base_uri": "https://localhost:8080/"
        },
        "outputId": "8291dad0-45df-431c-b5e1-075669ad87bd"
      },
      "source": [
        "# List unpacking\n",
        "# You could unpack a list into different variables\n",
        "\n",
        "ls = [23, True, 'Hello']\n",
        "\n",
        "a, b, c  = ls  # this will store different elements in different variables\n",
        "print('a: %d' %(a))\n",
        "print('b: %s' %(b))\n",
        "print('c: %s' %(c))"
      ],
      "execution_count": null,
      "outputs": [
        {
          "output_type": "stream",
          "text": [
            "a: 23\n",
            "b: True\n",
            "c: Hello\n"
          ],
          "name": "stdout"
        }
      ]
    },
    {
      "cell_type": "markdown",
      "metadata": {
        "id": "abXc4Cks3KLY"
      },
      "source": [
        "**Tuple operations:**"
      ]
    },
    {
      "cell_type": "code",
      "metadata": {
        "id": "Yhg4QXcQ3Nub",
        "colab": {
          "base_uri": "https://localhost:8080/"
        },
        "outputId": "fd0a9203-50f9-406e-9a87-7536fc2a83d8"
      },
      "source": [
        "# Create a tuple\n",
        "t = (2,'Hi',True)  # tuple can also store data of different types\n",
        "print(t)\n",
        "print(type(t))"
      ],
      "execution_count": null,
      "outputs": [
        {
          "output_type": "stream",
          "text": [
            "(2, 'Hi', True)\n",
            "<class 'tuple'>\n"
          ],
          "name": "stdout"
        }
      ]
    },
    {
      "cell_type": "code",
      "metadata": {
        "id": "2iRLeSJM4Qix",
        "colab": {
          "base_uri": "https://localhost:8080/"
        },
        "outputId": "7a696641-1ace-47a5-ef6e-5be4a7b1a22a"
      },
      "source": [
        "# Access an element\n",
        "# same way as done in list\n",
        "\n",
        "t = (2,'Hi', 23.8, True)\n",
        "\n",
        "print('Second element: %s' %(t[1]))\n",
        "print('Second last element: %s' %(t[-2]))"
      ],
      "execution_count": null,
      "outputs": [
        {
          "output_type": "stream",
          "text": [
            "Second element: Hi\n",
            "Second last element: 23.8\n"
          ],
          "name": "stdout"
        }
      ]
    },
    {
      "cell_type": "code",
      "metadata": {
        "id": "s_Y6w6bE4-tl",
        "colab": {
          "base_uri": "https://localhost:8080/"
        },
        "outputId": "605d04c8-a9bd-40d7-c024-9128f6f3b5ce"
      },
      "source": [
        "u = t[1:4]\n",
        "print(u)"
      ],
      "execution_count": null,
      "outputs": [
        {
          "output_type": "stream",
          "text": [
            "('Hi', 23.8, True)\n"
          ],
          "name": "stdout"
        }
      ]
    },
    {
      "cell_type": "code",
      "metadata": {
        "id": "YfNO1-Wr5Bak"
      },
      "source": [
        "# Tuple cannot be modified\n",
        "# The following lines would result in an error\n",
        "# t = (2,'Hi',True)\n",
        "# t[1] = 5"
      ],
      "execution_count": null,
      "outputs": []
    },
    {
      "cell_type": "code",
      "metadata": {
        "id": "6wFw89hQ6jS3",
        "colab": {
          "base_uri": "https://localhost:8080/"
        },
        "outputId": "ac60c2e4-580f-4b87-ceb7-4b6c4964fb7b"
      },
      "source": [
        "# Tuples can be unpacked like lists\n",
        "l = (23, 45.98, 'Hello')\n",
        "\n",
        "a, b, c = l  # this will store different elements in different variables\n",
        "print('a: %d' %(a))\n",
        "print('b: %0.3f' %(b))\n",
        "print('c: %s' %(c))"
      ],
      "execution_count": null,
      "outputs": [
        {
          "output_type": "stream",
          "text": [
            "a: 23\n",
            "b: 45.980\n",
            "c: Hello\n"
          ],
          "name": "stdout"
        }
      ]
    },
    {
      "cell_type": "markdown",
      "metadata": {
        "id": "YUPTx5LS7fNj"
      },
      "source": [
        "**Dictionary operations:**"
      ]
    },
    {
      "cell_type": "code",
      "metadata": {
        "id": "sYPGrJoq7rPy",
        "colab": {
          "base_uri": "https://localhost:8080/"
        },
        "outputId": "3f1246e1-8915-4e56-bac6-ceb5046cf3ed"
      },
      "source": [
        "# Creating a dictionary\n",
        "d = {\"Big Bang Theory\":\"Sheldon\", \"FRIENDS\":\"Ross\" ,\"Office\":\"Michael\"}\n",
        "print(d)\n",
        "print(type(d))"
      ],
      "execution_count": null,
      "outputs": [
        {
          "output_type": "stream",
          "text": [
            "{'Big Bang Theory': 'Sheldon', 'FRIENDS': 'Ross', 'Office': 'Michael'}\n",
            "<class 'dict'>\n"
          ],
          "name": "stdout"
        }
      ]
    },
    {
      "cell_type": "code",
      "metadata": {
        "id": "ymZnARbM9Fx3",
        "colab": {
          "base_uri": "https://localhost:8080/"
        },
        "outputId": "6d2aa507-193b-41b3-d5f2-1ed6593ef0a2"
      },
      "source": [
        "# key has to be a unique string\n",
        "# value can be of any type\n",
        "d = {\"Integer\": 23, \"Boolean\": True, \"Float\":23}\n",
        "print(d)\n",
        "print(type(d))"
      ],
      "execution_count": null,
      "outputs": [
        {
          "output_type": "stream",
          "text": [
            "{'Integer': 23, 'Boolean': True, 'Float': 23}\n",
            "<class 'dict'>\n"
          ],
          "name": "stdout"
        }
      ]
    },
    {
      "cell_type": "code",
      "metadata": {
        "id": "V7f8PiXO9hMr",
        "colab": {
          "base_uri": "https://localhost:8080/"
        },
        "outputId": "a2ee0025-2d79-4b6c-95c3-d305895f781f"
      },
      "source": [
        "# value can be accessed using the key in a dictionary\n",
        "d = {\"Big Bang Theory\":\"Sheldon\", \"FRIENDS\":\"Ross\" ,\"Office\":\"Michael\"}\n",
        "s = d[\"Office\"]\n",
        "print(s)"
      ],
      "execution_count": null,
      "outputs": [
        {
          "output_type": "stream",
          "text": [
            "Michael\n"
          ],
          "name": "stdout"
        }
      ]
    },
    {
      "cell_type": "code",
      "metadata": {
        "id": "7oHEwglR9yHf",
        "colab": {
          "base_uri": "https://localhost:8080/"
        },
        "outputId": "4d9fd3c1-8d05-46b5-ba85-a973a85c6633"
      },
      "source": [
        "# keys can be listed using the keys() function\n",
        "print(d.keys())\n",
        "print(type(d.keys()))"
      ],
      "execution_count": null,
      "outputs": [
        {
          "output_type": "stream",
          "text": [
            "dict_keys(['Big Bang Theory', 'FRIENDS', 'Office'])\n",
            "<class 'dict_keys'>\n"
          ],
          "name": "stdout"
        }
      ]
    },
    {
      "cell_type": "code",
      "metadata": {
        "id": "lBO3Bcjs95cb",
        "colab": {
          "base_uri": "https://localhost:8080/"
        },
        "outputId": "208d8d26-2a68-4434-e992-025da8ee1f8f"
      },
      "source": [
        "# values can be listed using values() function\n",
        "print(d.values())\n",
        "print(type(d.values()))"
      ],
      "execution_count": null,
      "outputs": [
        {
          "output_type": "stream",
          "text": [
            "dict_values(['Sheldon', 'Ross', 'Michael'])\n",
            "<class 'dict_values'>\n"
          ],
          "name": "stdout"
        }
      ]
    },
    {
      "cell_type": "code",
      "metadata": {
        "id": "n2AsswlS-EDR",
        "colab": {
          "base_uri": "https://localhost:8080/"
        },
        "outputId": "c4140472-77ac-46fa-ab5f-43fecfd7f51f"
      },
      "source": [
        "# key-value pairs can be listed as tuples using items() function\n",
        "print(d)\n",
        "print(d.items())"
      ],
      "execution_count": null,
      "outputs": [
        {
          "output_type": "stream",
          "text": [
            "{'Big Bang Theory': 'Leonard', 'FRIENDS': 'Ross', 'Office': 'Michael', 'How I met your mother': 'Ted'}\n",
            "dict_items([('Big Bang Theory', 'Leonard'), ('FRIENDS', 'Ross'), ('Office', 'Michael'), ('How I met your mother', 'Ted')])\n"
          ],
          "name": "stdout"
        }
      ]
    },
    {
      "cell_type": "code",
      "metadata": {
        "id": "9rZcXrxQ-RbD",
        "colab": {
          "base_uri": "https://localhost:8080/"
        },
        "outputId": "fbcf8a75-c290-433d-a869-c10ecbfcc2bb"
      },
      "source": [
        "# change any value in a dictionary using its key\n",
        "d['Big Bang Theory'] = 'Leonard'\n",
        "print(d)\n"
      ],
      "execution_count": null,
      "outputs": [
        {
          "output_type": "stream",
          "text": [
            "{'Big Bang Theory': 'Leonard', 'FRIENDS': 'Ross', 'Office': 'Michael'}\n"
          ],
          "name": "stdout"
        }
      ]
    },
    {
      "cell_type": "code",
      "metadata": {
        "id": "9VsRlBTo-gLE",
        "colab": {
          "base_uri": "https://localhost:8080/"
        },
        "outputId": "d85661f1-2804-4abc-9fb1-1c2eb1e5f2cf"
      },
      "source": [
        "# add a new key-value pair\n",
        "d['How I met your mother'] = 'Ted'\n",
        "print(d)"
      ],
      "execution_count": null,
      "outputs": [
        {
          "output_type": "stream",
          "text": [
            "{'Big Bang Theory': 'Leonard', 'FRIENDS': 'Ross', 'Office': 'Michael', 'How I met your mother': 'Ted'}\n"
          ],
          "name": "stdout"
        }
      ]
    },
    {
      "cell_type": "markdown",
      "metadata": {
        "id": "n_j-ew10T-dR"
      },
      "source": [
        "**Type conversion:**"
      ]
    },
    {
      "cell_type": "code",
      "metadata": {
        "id": "GbKfQ1a8UBPJ",
        "colab": {
          "base_uri": "https://localhost:8080/"
        },
        "outputId": "2bc2fb4d-4244-4025-ee5a-189c89db843d"
      },
      "source": [
        "# You can convert one data type to another\n",
        "# using type coversion functions\n",
        "\n",
        "a = 5               # int\n",
        "b = 25.078          # float\n",
        "c = 'How you doin'  # string\n",
        "\n",
        "# Convert to int\n",
        "d = int(b)\n",
        "print('b after converting to int: %d' %(d))\n",
        "print('type after conversion: %s \\n' %(type(d)))\n",
        "\n",
        "# Convert to float\n",
        "e = float(a)\n",
        "print('a after converting to float: %f' %(e))\n",
        "print('type after conversion: %s \\n' %(type(e)))\n",
        "\n",
        "# Convert to string\n",
        "f = str(b)\n",
        "print('b after converting to string: %s' %(f))\n",
        "print('type after conversion: %s \\n' %(type(f)))\n",
        "\n",
        "# Convert to list\n",
        "g = list(c)\n",
        "print('c after converting to list:')\n",
        "print(g)\n",
        "print('type after conversion: %s \\n' %(type(g)))\n",
        "\n",
        "# Convert to tuple\n",
        "h = tuple(c)\n",
        "print('c after converting to float:')\n",
        "print(h)\n",
        "print('type after conversion: %s \\n' %(type(h)))\n",
        "\n",
        "# Convert to set\n",
        "i = set(c)\n",
        "print('c after converting to float:')\n",
        "print(i)\n",
        "print('type after conversion: %s \\n' %(type(i)))"
      ],
      "execution_count": null,
      "outputs": [
        {
          "output_type": "stream",
          "text": [
            "b after converting to int: 25\n",
            "type after conversion: <class 'int'> \n",
            "\n",
            "a after converting to float: 5.000000\n",
            "type after conversion: <class 'float'> \n",
            "\n",
            "b after converting to string: 25.078\n",
            "type after conversion: <class 'str'> \n",
            "\n",
            "c after converting to list:\n",
            "['H', 'o', 'w', ' ', 'y', 'o', 'u', ' ', 'd', 'o', 'i', 'n']\n",
            "type after conversion: <class 'list'> \n",
            "\n",
            "c after converting to float:\n",
            "('H', 'o', 'w', ' ', 'y', 'o', 'u', ' ', 'd', 'o', 'i', 'n')\n",
            "type after conversion: <class 'tuple'> \n",
            "\n",
            "c after converting to float:\n",
            "{' ', 'u', 'd', 'i', 'H', 'w', 'n', 'o', 'y'}\n",
            "type after conversion: <class 'set'> \n",
            "\n"
          ],
          "name": "stdout"
        }
      ]
    },
    {
      "cell_type": "markdown",
      "metadata": {
        "id": "XJuG0n0xiE9T"
      },
      "source": [
        "#Conditional Statements"
      ]
    },
    {
      "cell_type": "markdown",
      "metadata": {
        "id": "0wxre-kiQ6VW"
      },
      "source": [
        "`if..elif..else` statement is used for conditional control flow in the code.\n",
        "\n",
        "Basic syntax is:\n"
      ]
    },
    {
      "cell_type": "code",
      "metadata": {
        "id": "CwAzCB2-NIP4",
        "colab": {
          "base_uri": "https://localhost:8080/"
        },
        "outputId": "a43882a4-bed1-4cff-a584-d26cff025af6"
      },
      "source": [
        "# Take care of the indentation\n",
        "a = -1\n",
        "b = 5\n",
        "if a > 1 :\n",
        "  print('I am learning Python')\n",
        "  print(\"Another\")\n",
        "else :\n",
        "  print('What is going on')\n"
      ],
      "execution_count": null,
      "outputs": [
        {
          "output_type": "stream",
          "text": [
            "What is going on\n"
          ],
          "name": "stdout"
        }
      ]
    },
    {
      "cell_type": "code",
      "metadata": {
        "id": "VtLzN3HvtJVb",
        "colab": {
          "base_uri": "https://localhost:8080/"
        },
        "outputId": "c93c4576-95d8-493e-b7c7-a8b37560f4e5"
      },
      "source": [
        "a = 23\n",
        "b = 23\n",
        "if a < b :\n",
        "  print('Yes')\n",
        "elif a > b :\n",
        "  print('No')\n",
        "else:\n",
        "  print('Meh')"
      ],
      "execution_count": null,
      "outputs": [
        {
          "output_type": "stream",
          "text": [
            "Meh\n"
          ],
          "name": "stdout"
        }
      ]
    },
    {
      "cell_type": "code",
      "metadata": {
        "id": "wrLgVp2OC3FW",
        "colab": {
          "base_uri": "https://localhost:8080/"
        },
        "outputId": "bca80a38-a07a-4570-b9cc-d5c710c097a1"
      },
      "source": [
        "# Logical operators\n",
        "\n",
        "# 'and' is used for conjunction of two conditionals\n",
        "a = 3\n",
        "b = 20\n",
        "if a < b and b%2==0:\n",
        "  print(\"both conditions are true\")\n",
        "else:\n",
        "  print('either one of them is false')"
      ],
      "execution_count": null,
      "outputs": [
        {
          "output_type": "stream",
          "text": [
            "both conditions are true\n"
          ],
          "name": "stdout"
        }
      ]
    },
    {
      "cell_type": "code",
      "metadata": {
        "id": "_zzwKnoVAzX7",
        "colab": {
          "base_uri": "https://localhost:8080/"
        },
        "outputId": "819f6e79-dcf9-4887-cb7b-d9b33940ba8c"
      },
      "source": [
        "# 'or' is used for disjunction of two conditionals\n",
        "a = 12\n",
        "b = 24\n",
        "if a < b or b%a==0:\n",
        "  print(\"one of the conditions are true\")\n",
        "else:\n",
        "  print('both of them are false')"
      ],
      "execution_count": null,
      "outputs": [
        {
          "output_type": "stream",
          "text": [
            "one of the conditions are true\n"
          ],
          "name": "stdout"
        }
      ]
    },
    {
      "cell_type": "code",
      "metadata": {
        "id": "2iOkf-hqBHPy",
        "colab": {
          "base_uri": "https://localhost:8080/"
        },
        "outputId": "43719e5e-f516-4817-8608-09fce6d1fa0c"
      },
      "source": [
        "# 'not' is used to negate the conditional\n",
        "a = 2\n",
        "b = 5\n",
        "if not a>=b :\n",
        "  print('a is less than b')\n",
        "else:\n",
        "  print('a is greater than or equal to b')"
      ],
      "execution_count": null,
      "outputs": [
        {
          "output_type": "stream",
          "text": [
            "a is less than b\n"
          ],
          "name": "stdout"
        }
      ]
    },
    {
      "cell_type": "markdown",
      "metadata": {
        "id": "WPdi9mIZhv8R"
      },
      "source": [
        "#Iterative Statements"
      ]
    },
    {
      "cell_type": "markdown",
      "metadata": {
        "id": "fVpf5-clDUbp"
      },
      "source": [
        "Iterative statements are used to repeat a set of statements.\n",
        "\n",
        "`while` and `for` are two iterative statements in python.\n",
        "\n",
        "Basic syntax for `while` is:\n"
      ]
    },
    {
      "cell_type": "code",
      "metadata": {
        "id": "-MsICy397VZL",
        "colab": {
          "base_uri": "https://localhost:8080/"
        },
        "outputId": "2c06c1d4-38f2-474a-e7ba-b3e0438411b8"
      },
      "source": [
        "# while statement\n",
        "i = 2\n",
        "while i < 10:\n",
        "  print(i)\n",
        "  i+=2\n",
        "print('Loop terminated')"
      ],
      "execution_count": null,
      "outputs": [
        {
          "output_type": "stream",
          "text": [
            "2\n",
            "4\n",
            "6\n",
            "8\n",
            "Loop terminated\n"
          ],
          "name": "stdout"
        }
      ]
    },
    {
      "cell_type": "code",
      "metadata": {
        "id": "myrhxOUnCne1",
        "colab": {
          "base_uri": "https://localhost:8080/"
        },
        "outputId": "5741cc41-6cb6-4821-ea9d-abb2394e0ac7"
      },
      "source": [
        "# There is an optional 'else' which is executed once when the condition becomes false\n",
        "\n",
        "i = 1\n",
        "while i < 6:\n",
        "  print(i)\n",
        "  i+=1\n",
        "else:\n",
        "  print('i>=6')\n",
        "print(\"Anything\")"
      ],
      "execution_count": null,
      "outputs": [
        {
          "output_type": "stream",
          "text": [
            "1\n",
            "2\n",
            "3\n",
            "4\n",
            "5\n",
            "i>=6\n",
            "Anything\n"
          ],
          "name": "stdout"
        }
      ]
    },
    {
      "cell_type": "markdown",
      "metadata": {
        "id": "ACOVTiIGDJ0E"
      },
      "source": [
        "Basic syntax for `for` loop:"
      ]
    },
    {
      "cell_type": "code",
      "metadata": {
        "id": "ODQBlLkRDNM-",
        "colab": {
          "base_uri": "https://localhost:8080/"
        },
        "outputId": "44fbefb9-38ab-4b74-e92e-b6e893280b80"
      },
      "source": [
        "# for loop\n",
        "# for loop iterates over any iterable object like strings, list, tuple, range, etc\n",
        "\n",
        "# this prints each character in string s\n",
        "s = 'Hello'\n",
        "for c in s:\n",
        "  print(c)"
      ],
      "execution_count": null,
      "outputs": [
        {
          "output_type": "stream",
          "text": [
            "H\n",
            "e\n",
            "l\n",
            "l\n",
            "o\n"
          ],
          "name": "stdout"
        }
      ]
    },
    {
      "cell_type": "code",
      "metadata": {
        "id": "uwx-fWzqDpiX",
        "colab": {
          "base_uri": "https://localhost:8080/"
        },
        "outputId": "b52d55ca-053d-4dcf-aadd-4cf8c0bad535"
      },
      "source": [
        "# lists or any slice of list can also be used as an iterator\n",
        "l = [23, 'hi', True, 14.98]\n",
        "for i in range(0,4,2):\n",
        "  print(l[i])\n"
      ],
      "execution_count": null,
      "outputs": [
        {
          "output_type": "stream",
          "text": [
            "23\n",
            "True\n"
          ],
          "name": "stdout"
        }
      ]
    },
    {
      "cell_type": "code",
      "metadata": {
        "id": "fjRsEqTpDxQO",
        "colab": {
          "base_uri": "https://localhost:8080/"
        },
        "outputId": "ea8ff3c4-814a-4ee8-e8b8-87501e84317d"
      },
      "source": [
        "# iterate over a slice of list\n",
        "for i in l[:2]:\n",
        "  print(i)"
      ],
      "execution_count": null,
      "outputs": [
        {
          "output_type": "stream",
          "text": [
            "23\n",
            "hi\n"
          ],
          "name": "stdout"
        }
      ]
    },
    {
      "cell_type": "code",
      "metadata": {
        "id": "NlrwRYvnEAi6",
        "colab": {
          "base_uri": "https://localhost:8080/"
        },
        "outputId": "e7febafc-1b68-4500-970a-6b9ddba8b80b"
      },
      "source": [
        "# similarly for tuple\n",
        "t = ('Hello', 'World', 'I', 'am ', 'here')\n",
        "for it in t[0:3]:\n",
        "  print(it)"
      ],
      "execution_count": null,
      "outputs": [
        {
          "output_type": "stream",
          "text": [
            "Hello\n",
            "World\n",
            "I\n"
          ],
          "name": "stdout"
        }
      ]
    },
    {
      "cell_type": "code",
      "metadata": {
        "id": "HanOjJXkETl6",
        "colab": {
          "base_uri": "https://localhost:8080/"
        },
        "outputId": "b22a6e01-a2a0-4270-8785-9e6a7328e3b4"
      },
      "source": [
        "# range is used to create a sequence of numbers starting from start_index and ending on end_index-1\n",
        "# with steps of step_size, the syntax of range is\n",
        "# range(start_index, end_index, step_size)\n",
        "# if any value is not provided then default values are used\n",
        "# start_index = 0\n",
        "# step_size = 1\n",
        "\n",
        "for i in range(1,6,2):\n",
        "  print(i)\n",
        "  i=2324"
      ],
      "execution_count": null,
      "outputs": [
        {
          "output_type": "stream",
          "text": [
            "1\n",
            "3\n",
            "5\n"
          ],
          "name": "stdout"
        }
      ]
    },
    {
      "cell_type": "code",
      "metadata": {
        "id": "d_jRBXH3EdmV",
        "colab": {
          "base_uri": "https://localhost:8080/"
        },
        "outputId": "91d24761-9690-46af-a4d8-ced228203a54"
      },
      "source": [
        "# leaving the step_size\n",
        "for i in range(1, 6):\n",
        "  print(i)"
      ],
      "execution_count": null,
      "outputs": [
        {
          "output_type": "stream",
          "text": [
            "1\n",
            "2\n",
            "3\n",
            "4\n",
            "5\n"
          ],
          "name": "stdout"
        }
      ]
    },
    {
      "cell_type": "code",
      "metadata": {
        "id": "JHJoX1UMFWib",
        "colab": {
          "base_uri": "https://localhost:8080/"
        },
        "outputId": "06db46bd-ef01-472d-8227-1564eba67cd5"
      },
      "source": [
        "# leaving the start_index\n",
        "for i in range(6):\n",
        "  print(i)"
      ],
      "execution_count": null,
      "outputs": [
        {
          "output_type": "stream",
          "text": [
            "0\n",
            "1\n",
            "2\n",
            "3\n",
            "4\n",
            "5\n"
          ],
          "name": "stdout"
        }
      ]
    },
    {
      "cell_type": "code",
      "metadata": {
        "colab": {
          "base_uri": "https://localhost:8080/"
        },
        "id": "ZAFXDJFemKS3",
        "outputId": "ba3c1db1-a46a-4950-df88-970edf3ccab1"
      },
      "source": [
        "a = range(1,6,2)\n",
        "print(type(a))\n"
      ],
      "execution_count": null,
      "outputs": [
        {
          "output_type": "stream",
          "text": [
            "<class 'range'>\n",
            "range(1, 6)\n"
          ],
          "name": "stdout"
        }
      ]
    },
    {
      "cell_type": "code",
      "metadata": {
        "id": "jPQnf6QqmMxX"
      },
      "source": [],
      "execution_count": null,
      "outputs": []
    }
  ]
}