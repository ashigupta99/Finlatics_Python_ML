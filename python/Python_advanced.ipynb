{
  "nbformat": 4,
  "nbformat_minor": 0,
  "metadata": {
    "kernelspec": {
      "display_name": "Python 3",
      "language": "python",
      "name": "python3"
    },
    "language_info": {
      "codemirror_mode": {
        "name": "ipython",
        "version": 3
      },
      "file_extension": ".py",
      "mimetype": "text/x-python",
      "name": "python",
      "nbconvert_exporter": "python",
      "pygments_lexer": "ipython3",
      "version": "3.8.3-final"
    },
    "name": "_merged",
    "colab": {
      "provenance": [],
      "include_colab_link": true
    }
  },
  "cells": [
    {
      "cell_type": "markdown",
      "metadata": {
        "id": "view-in-github",
        "colab_type": "text"
      },
      "source": [
        "<a href=\"https://colab.research.google.com/github/ashigupta99/Finlatics_Python_ML/blob/main/Python_advanced.ipynb\" target=\"_parent\"><img src=\"https://colab.research.google.com/assets/colab-badge.svg\" alt=\"Open In Colab\"/></a>"
      ]
    },
    {
      "cell_type": "markdown",
      "metadata": {
        "id": "SE9cTlO6DjnX"
      },
      "source": [
        "\n",
        "\n",
        "# Advanced Python"
      ]
    },
    {
      "cell_type": "markdown",
      "metadata": {
        "id": "PaGSnQ6tDjnj"
      },
      "source": [
        "## Strings\n",
        "---"
      ]
    },
    {
      "cell_type": "code",
      "metadata": {
        "id": "FSf-HD2oDjnk",
        "colab": {
          "base_uri": "https://localhost:8080/"
        },
        "outputId": "8e3feeb6-2b4d-4719-e662-37d0b9e44a80"
      },
      "source": [
        "str_h = 'hello'   # String literals can use single quotes\n",
        "str_w = \"world\"   # or double quotes; it does not matter\n",
        "print(str_h, len(str_h))"
      ],
      "execution_count": null,
      "outputs": [
        {
          "output_type": "stream",
          "text": [
            "hello 5\n"
          ],
          "name": "stdout"
        }
      ]
    },
    {
      "cell_type": "code",
      "metadata": {
        "id": "4xVxNiKFDjnm",
        "colab": {
          "base_uri": "https://localhost:8080/"
        },
        "outputId": "f0c65c30-df97-4750-e190-55023bebd41e"
      },
      "source": [
        "# triple quotes string can extend multiple lines\n",
        "my_string = \"\"\"Hello, welcome\n",
        "                  to the world of Python\"\"\"       #can also use \"\"\" kwbd  \"\"\"\n",
        "print(my_string)"
      ],
      "execution_count": null,
      "outputs": [
        {
          "output_type": "stream",
          "text": [
            "Hello, welcome \n",
            "                  to the world of Python\n"
          ],
          "name": "stdout"
        }
      ]
    },
    {
      "cell_type": "code",
      "metadata": {
        "id": "Q4sI1XtuDjnn",
        "colab": {
          "base_uri": "https://localhost:8080/"
        },
        "outputId": "bb2f79cd-36fe-4aa6-a15e-c34341077f88"
      },
      "source": [
        "hw = str_h + ' ' + str_w  # String concatenation this is not available in C\n",
        "print(hw)"
      ],
      "execution_count": null,
      "outputs": [
        {
          "output_type": "stream",
          "text": [
            "hello world\n"
          ],
          "name": "stdout"
        }
      ]
    },
    {
      "cell_type": "markdown",
      "metadata": {
        "id": "yBvNi19NRSyU"
      },
      "source": [
        "The format() method formats the specified value(s) and insert them inside the string's placeholder.\n",
        "\n",
        "The placeholder is defined using curly brackets: {}.\n",
        "The format() method returns the formatted string.\n",
        "\n",
        "\n"
      ]
    },
    {
      "cell_type": "code",
      "metadata": {
        "id": "ULzQyMbuDjno",
        "colab": {
          "base_uri": "https://localhost:8080/"
        },
        "outputId": "3082860d-5235-4202-aa3d-7f0cda94c24d"
      },
      "source": [
        "hw12 = 'you can put anything here {} {} {}'.format(str_h, str_w, 12.0)  # string formatting\n",
        "print(hw12)\n",
        "#another example\n",
        "txt1 = \"My name is {name}, I'm {age}\".format(name=\"John\",age=36)\n",
        "print(txt1)"
      ],
      "execution_count": null,
      "outputs": [
        {
          "output_type": "stream",
          "text": [
            "you can put anything here hello world 12.0\n",
            "My name is John, I'm 36\n"
          ],
          "name": "stdout"
        }
      ]
    },
    {
      "cell_type": "markdown",
      "metadata": {
        "id": "Xud3OT5HDjno"
      },
      "source": [
        "We can access individual characters using indexing and a range of characters using slicing. Index starts from 0. Trying to access a character out of index range will raise an `IndexError`. The index must be an integer. We can't use floats or other types, this will result into `TypeError`.\n",
        "\n",
        "Python allows negative indexing for its sequences.\n",
        "\n",
        "The index of `-1` refers to the last item, `-2` to the second last item and so on. We can access a range of items in a string by using the slicing operator `:`(colon).\n",
        "\n",
        "Slicing can be best visualized by considering the elements between the index as shown below.\n",
        "\n",
        "If we want to access a range, we need the index that will slice the portion from the string.\n",
        "\n",
        "![Slicing](https://cdn.programiz.com/sites/tutorial2program/files/element-slicling.jpg)"
      ]
    },
    {
      "cell_type": "code",
      "metadata": {
        "id": "ZH93TsXfDjnp",
        "colab": {
          "base_uri": "https://localhost:8080/"
        },
        "outputId": "19d20f40-85da-4e76-8dd7-02eb7fab9fef"
      },
      "source": [
        "#Accessing string characters in Python\n",
        "\n",
        "str = 'programiz'\n",
        "print('str = ', str)\n",
        "\n",
        "#first character\n",
        "print('str[0] = ', str[0])\n",
        "\n",
        "#last character\n",
        "print('str[-1] = ', str[-1])\n",
        "\n",
        "#slicing 2nd to 5th character\n",
        "print('str[1:5] = ', str[1:5])   # here it dont include 5th positon\n",
        "\n",
        "#slicing 6th to 2nd last character\n",
        "print('str[5:-2] = ', str[5:-2])"
      ],
      "execution_count": null,
      "outputs": [
        {
          "output_type": "stream",
          "text": [
            "str =  programiz\n",
            "str[0] =  p\n",
            "str[-1] =  z\n",
            "str[1:5] =  rogr\n",
            "str[5:-2] =  am\n"
          ],
          "name": "stdout"
        }
      ]
    },
    {
      "cell_type": "markdown",
      "metadata": {
        "id": "Jb77pNOCDjnp"
      },
      "source": [
        "String objects have a bunch of useful methods; for example:\n"
      ]
    },
    {
      "cell_type": "code",
      "metadata": {
        "id": "LhMA7-zRDjnq",
        "colab": {
          "base_uri": "https://localhost:8080/"
        },
        "outputId": "4fcd1253-d8ef-4b8d-c1c1-4e770a901ee4"
      },
      "source": [
        "s = \"hello\"\n",
        "print(s.capitalize())  # Capitalize a string\n",
        "print(s.upper())       # Convert a string to uppercase; prints \"HELLO\"\n",
        "print(s.replace('el', '(ell)'))  # Replace all instances of one substring with another\n",
        "print('  world '.strip())  # returns a copy of string by removing both leading and trailing whitespace\n",
        "print(\"\".join(reversed(\"hello world\"))) #reverse the string\n"
      ],
      "execution_count": null,
      "outputs": [
        {
          "output_type": "stream",
          "text": [
            "Hello\n",
            "HELLO\n",
            "h(ell)lo\n",
            "world\n",
            "dlrow olleh\n"
          ],
          "name": "stdout"
        }
      ]
    },
    {
      "cell_type": "markdown",
      "metadata": {
        "id": "eTYDDYTRDjnq"
      },
      "source": [
        "There are numerous methods available with the string object. The format() method that we mentioned above is one of them. Some of the commonly used methods are `lower()`, `upper()`, `join()`, `split()`, `find()`, `replace()` etc."
      ]
    },
    {
      "cell_type": "code",
      "metadata": {
        "id": "431ggBY0Djnq",
        "colab": {
          "base_uri": "https://localhost:8080/"
        },
        "outputId": "a6d035f2-6205-48ff-b391-3bf7e62cc67c"
      },
      "source": [
        "print(\"PrOgRaMiZ\".lower())\n",
        "print(\"PrOgRaMiZ\".upper())\n",
        "print(\"This will split all words into a list\".split())  #default seperator is white-space\n",
        "print(\" \".join(['This', 'will', 'join', 'all', 'words', 'into', 'a', 'string'])) # simply join all element of iterable into string\n",
        "print('Happy New Year'.find('ew'))\n",
        "print('Happy New Year'.replace('Happy','Brilliant'))"
      ],
      "execution_count": null,
      "outputs": [
        {
          "output_type": "stream",
          "text": [
            "programiz\n",
            "PROGRAMIZ\n",
            "['This', 'will', 'split', 'all', 'words', 'into', 'a', 'list']\n",
            "This will join all words into a string\n",
            "7\n",
            "Brilliant New Year\n"
          ],
          "name": "stdout"
        }
      ]
    },
    {
      "cell_type": "markdown",
      "metadata": {
        "id": "1e_8HudlgmII"
      },
      "source": [
        "try to print this without using nested loop\n",
        "\n",
        "\n",
        "\n",
        "```\n",
        "# print pattern given below\n",
        "*\n",
        "**\n",
        "***\n",
        "****\n",
        "*****\n",
        "```\n",
        "\n",
        "\n"
      ]
    },
    {
      "cell_type": "code",
      "metadata": {
        "id": "IN55AIIdgj_r",
        "colab": {
          "base_uri": "https://localhost:8080/"
        },
        "outputId": "de560f08-18f4-4a50-ba27-1c5b47abf2b1"
      },
      "source": [
        "star_str=\"\"\n",
        "for i  in range(0,5):\n",
        "  star_str=star_str+\"*\"\n",
        "  print(star_str)"
      ],
      "execution_count": null,
      "outputs": [
        {
          "output_type": "stream",
          "text": [
            "*\n",
            "**\n",
            "***\n",
            "****\n",
            "*****\n"
          ],
          "name": "stdout"
        }
      ]
    },
    {
      "cell_type": "markdown",
      "metadata": {
        "id": "IJ_F9LXxZVcB"
      },
      "source": [
        "![images.jpg](data:image/jpeg;base64,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)"
      ]
    },
    {
      "cell_type": "markdown",
      "metadata": {
        "id": "_iPXyZcZDjnr"
      },
      "source": [
        "You can find a list of all string methods in the [documentation](https://docs.python.org/3.7/library/stdtypes.html#string-methods)."
      ]
    },
    {
      "cell_type": "markdown",
      "metadata": {
        "id": "z8z0_dmZDjnr"
      },
      "source": [
        "## Containers\n",
        "---"
      ]
    },
    {
      "cell_type": "markdown",
      "metadata": {
        "id": "s4ghrnaiDjns"
      },
      "source": [
        "### Lists\n",
        "A list is the Python equivalent of an array, but is resizeable and can contain elements of different types:\n"
      ]
    },
    {
      "cell_type": "code",
      "metadata": {
        "id": "vilaarwLDjns",
        "colab": {
          "base_uri": "https://localhost:8080/"
        },
        "outputId": "9913ded6-d01a-4575-ff0b-7869d688fd89"
      },
      "source": [
        "xs = [3, 1, 2,8.0]   # Create a list\n",
        "print(xs)\n",
        "print(xs[1])\n",
        "print(xs[-1])     # Negative indices count from the end of the list; prints \"2\"\n",
        "print(type(xs))"
      ],
      "execution_count": null,
      "outputs": [
        {
          "output_type": "stream",
          "text": [
            "[3, 1, 2, 8.0]\n",
            "1\n",
            "8.0\n",
            "<class 'list'>\n"
          ],
          "name": "stdout"
        }
      ]
    },
    {
      "cell_type": "code",
      "metadata": {
        "id": "mNX8GnBwDjns",
        "colab": {
          "base_uri": "https://localhost:8080/"
        },
        "outputId": "d91cedd7-be64-46ba-d23d-317052619121"
      },
      "source": [
        "xs[2] = 'foo'    # Lists can contain elements of different types\n",
        "print(xs)"
      ],
      "execution_count": null,
      "outputs": [
        {
          "output_type": "stream",
          "text": [
            "[3, 1, 'foo', 8.0]\n"
          ],
          "name": "stdout"
        }
      ]
    },
    {
      "cell_type": "code",
      "metadata": {
        "id": "MEnUkiAaDjnt",
        "colab": {
          "base_uri": "https://localhost:8080/"
        },
        "outputId": "862d6148-16f5-469f-b5d8-5637373378fe"
      },
      "source": [
        "xs.append(9) # Add a new element to the end of the list\n",
        "print(xs)"
      ],
      "execution_count": null,
      "outputs": [
        {
          "output_type": "stream",
          "text": [
            "[3, 1, 'foo', 8.0, 'bar', 9]\n"
          ],
          "name": "stdout"
        }
      ]
    },
    {
      "cell_type": "code",
      "metadata": {
        "id": "i1XOTGTWDjnt",
        "colab": {
          "base_uri": "https://localhost:8080/"
        },
        "outputId": "ff176173-6fb7-4168-b74a-965dfbb2bdfa"
      },
      "source": [
        "x=xs.pop()     # Remove and return the last element of the list\n",
        "print(x,xs)"
      ],
      "execution_count": null,
      "outputs": [
        {
          "output_type": "stream",
          "text": [
            "9 [3, 1, 'foo', 8.0, 'bar']\n"
          ],
          "name": "stdout"
        }
      ]
    },
    {
      "cell_type": "markdown",
      "metadata": {
        "id": "0ezOr5bYDjnu"
      },
      "source": [
        "Methods that are available with list objects in Python programming are tabulated below.\n",
        "\n",
        "They are accessed as list.method(). Some of the methods have already been used above.\n",
        "\n",
        "Python List Methods\n",
        "- `append()` - Add an element to the end of the list\n",
        "- `extend()` - Add all elements of a list to the another list\n",
        "- `insert()` - Insert an item at the defined index\n",
        "- `remove()` - Removes an item from the list\n",
        "- `pop()` - Removes and returns an element at the given index\n",
        "- `clear()` - Removes all items from the list\n",
        "- `index()` - Returns the index of the first matched item\n",
        "- `count()` - Returns the count of the number of items passed as an argument\n",
        "- `sort()` - Sort items in a list in ascending order\n",
        "- `reverse()` - Reverse the order of items in the list\n",
        "- `copy()` - Returns a shallow copy of the list"
      ]
    },
    {
      "cell_type": "code",
      "metadata": {
        "id": "mNa8kSXdDjnu",
        "colab": {
          "base_uri": "https://localhost:8080/"
        },
        "outputId": "2f06ad33-ec2f-4a93-d0c7-5f7e7a6854f7"
      },
      "source": [
        "# Python list methods\n",
        "my_list = [3, 8, 1, 6, 0, 8, 4]\n",
        "\n",
        "#extend\n",
        "my_list.extend([9,0,2])\n",
        "print(my_list)\n",
        "\n",
        "# Output: 1\n",
        "print(my_list.index(8,2))      # you can also pass start and end index\n",
        "\n",
        "# Output: 2\n",
        "print(my_list.count(8))\n",
        "\n",
        "my_list.sort(reverse=True)\n",
        "\n",
        "\n",
        "print(my_list)\n",
        "\n",
        "my_list.reverse()\n",
        "\n",
        "\n",
        "\n",
        "\n",
        "print(my_list)"
      ],
      "execution_count": null,
      "outputs": [
        {
          "output_type": "stream",
          "text": [
            "[3, 8, 1, 6, 0, 8, 4, 9, 0, 2]\n",
            "5\n",
            "2\n",
            "[9, 8, 8, 6, 4, 3, 2, 1, 0, 0]\n",
            "True\n",
            "[0, 0, 1, 2, 3, 4, 6, 8, 8, 9]\n"
          ],
          "name": "stdout"
        }
      ]
    },
    {
      "cell_type": "markdown",
      "metadata": {
        "id": "6I3Ph4WIaYKb"
      },
      "source": [
        "![python-funny-meme-6-lists.jpg](data:image/jpeg;base64,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)\n",
        "\n",
        "\n",
        "\n"
      ]
    },
    {
      "cell_type": "markdown",
      "metadata": {
        "id": "IVwpua8fDjnu"
      },
      "source": [
        "#### Slicing\n",
        "In addition to accessing list elements one at a time, Python provides concise syntax to access sublists; this is known as slicing:"
      ]
    },
    {
      "cell_type": "code",
      "metadata": {
        "id": "KIHGzT_TDjnv",
        "colab": {
          "base_uri": "https://localhost:8080/"
        },
        "outputId": "74af08e9-53f8-40bc-daed-ac5a04c911d4"
      },
      "source": [
        "nums = list(range(5))    # range is a built-in function that creates a list of integers\n",
        "print(nums)         # Prints \"[0, 1, 2, 3, 4]\"\n",
        "print(nums[2:4])    # Get a slice from index 2 to 4 (exclusive); prints \"[2, 3]\"\n",
        "print(nums[2:])     # Get a slice from index 2 to the end; prints \"[2, 3, 4]\"\n",
        "print(nums[:2])     # Get a slice from the start to index 2 (exclusive); prints \"[0, 1]\"\n",
        "print(nums[:])      # Get a slice of the whole list; prints [\"0, 1, 2, 3, 4]\"\n",
        "print(nums[:-1])    # Slice indices can be negative; prints [\"0, 1, 2, 3]\"\n",
        "nums[2:4] = [8, 9] # Assign a new sublist to a slice\n",
        "print(nums)         # Prints \"[0, 1, 8, 9, 4]\""
      ],
      "execution_count": null,
      "outputs": [
        {
          "output_type": "stream",
          "text": [
            "[0, 1, 2, 3, 4]\n",
            "[2, 3]\n",
            "[2, 3, 4]\n",
            "[0, 1]\n",
            "[0, 1, 2, 3, 4]\n",
            "[0, 1, 2, 3]\n",
            "[0, 1, 8, 9, 4]\n"
          ],
          "name": "stdout"
        }
      ]
    },
    {
      "cell_type": "markdown",
      "metadata": {
        "id": "A6vdgGV_Djnv"
      },
      "source": [
        "#### Loops\n",
        "You can loop over the elements of a list using a for loop:\n",
        "The general syntax for a “for-loop” is:\n",
        "```python\n",
        "for <var> in <iterable>:\n",
        "    block of code\n",
        "```\n",
        "The for-loop behaves as follows:\n",
        "\n",
        "- Request the next member of the iterable.\n",
        "\n",
        "- If the iterable is empty, exit the for-loop without running its body.\n",
        "\n",
        "- If the iterable did produce a member, assign that member to <var> (if <var> was not previously defined, it becomes defined).\n",
        "\n",
        "- Execute the enclosed body of code.\n",
        "\n",
        "- Go back to the first step.\n",
        "\n",
        "![for-loop-for-loop-for-loop-ah-shit-here-we-61069524.png](data:image/png;base64,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)\n",
        "\n"
      ]
    },
    {
      "cell_type": "code",
      "metadata": {
        "id": "pujC_Vdrc5R8",
        "colab": {
          "base_uri": "https://localhost:8080/"
        },
        "outputId": "0dedbb9d-87ed-40ac-e54b-6c63be457633"
      },
      "source": [
        "lst=[]\n",
        "for i in range(1,21):         ## as here we produce a list of squares of all numbers form 1 to 20\n",
        "  lst.append(i*i)\n",
        "print(lst)"
      ],
      "execution_count": null,
      "outputs": [
        {
          "output_type": "stream",
          "text": [
            "[1, 4, 9, 16, 25, 36, 49, 64, 81, 100, 121, 144, 169, 196, 225, 256, 289, 324, 361, 400]\n"
          ],
          "name": "stdout"
        }
      ]
    },
    {
      "cell_type": "code",
      "metadata": {
        "id": "sWY4HMcmDjnw",
        "colab": {
          "base_uri": "https://localhost:8080/"
        },
        "outputId": "007a97fe-c1a7-405c-bd5f-4bd582ff1c87"
      },
      "source": [
        "animals = ['cat', 'dog', 'monkey']\n",
        "for animal in animals:\n",
        "    print(animal)"
      ],
      "execution_count": null,
      "outputs": [
        {
          "output_type": "stream",
          "text": [
            "cat\n",
            "dog\n",
            "monkey\n"
          ],
          "name": "stdout"
        }
      ]
    },
    {
      "cell_type": "markdown",
      "metadata": {
        "id": "woggvNsyDjnx"
      },
      "source": [
        "If you want access to the index of each element within the body of a loop, use the built-in `enumerate` function:"
      ]
    },
    {
      "cell_type": "code",
      "metadata": {
        "id": "2vOphz9rDjnx",
        "colab": {
          "base_uri": "https://localhost:8080/"
        },
        "outputId": "67defcf3-3c9d-4d15-9656-8a31d87f137e"
      },
      "source": [
        "animals = ['cat', 'dog', 'monkey']\n",
        "\n",
        "for idx, animal in enumerate(animals):        #enumerate take iterable as an argument\n",
        "    print('#{}: {}'.format(idx + 1, animal))"
      ],
      "execution_count": null,
      "outputs": [
        {
          "output_type": "stream",
          "text": [
            "#1: cat\n",
            "#2: dog\n",
            "#3: monkey\n"
          ],
          "name": "stdout"
        }
      ]
    },
    {
      "cell_type": "markdown",
      "metadata": {
        "id": "Hyy79Cq0gA_s"
      },
      "source": [
        "Enumerate() method adds a counter to an iterable and returns it in a form of enumerate object. This enumerate object can then be used directly in for loops or be converted into a list of tuples using list() method.\n"
      ]
    },
    {
      "cell_type": "code",
      "metadata": {
        "id": "2uTEdjYTfmOS",
        "colab": {
          "base_uri": "https://localhost:8080/"
        },
        "outputId": "26789629-085a-41f2-8bfa-6c786fc65ba7"
      },
      "source": [
        "# Python program to illustrate\n",
        "# enumerate function in loops\n",
        "l1 = [\"eat\",\"sleep\",\"repeat\"]\n",
        "\n",
        "# printing the tuples in object directly\n",
        "lst=[]\n",
        "for ele in enumerate(l1):\n",
        "\tlst.append(ele)\n",
        "print(lst)"
      ],
      "execution_count": null,
      "outputs": [
        {
          "output_type": "stream",
          "text": [
            "[(0, 'eat'), (1, 'sleep'), (2, 'repeat')]\n"
          ],
          "name": "stdout"
        }
      ]
    },
    {
      "cell_type": "markdown",
      "metadata": {
        "id": "H0x-7MIqDjny"
      },
      "source": [
        "Note that the variable item will persist after the for-loop block is exited. It will reference the last value from the for-loop iteration. That being said, you should not write code that depends on the iterate-variable, outside of the context of the for-loop. In the case that you try to loop over an empty iterable, the iterate-variable is never defined:"
      ]
    },
    {
      "cell_type": "code",
      "metadata": {
        "id": "ddY658ZZDjny",
        "colab": {
          "base_uri": "https://localhost:8080/",
          "height": 201
        },
        "outputId": "c6419ab7-bc35-4b13-d9a5-bd06fb768c80"
      },
      "source": [
        "for k in []:         # the iterable is empty - the iterate-variable `l` will not be defined\n",
        "    print(\"Hello?\")  # this code is never executed\n",
        "print(k)             # raises an error because `l` was never defined"
      ],
      "execution_count": null,
      "outputs": [
        {
          "output_type": "error",
          "ename": "NameError",
          "evalue": "ignored",
          "traceback": [
            "\u001b[0;31m---------------------------------------------------------------------------\u001b[0m",
            "\u001b[0;31mNameError\u001b[0m                                 Traceback (most recent call last)",
            "\u001b[0;32m<ipython-input-45-994e87b961ff>\u001b[0m in \u001b[0;36m<module>\u001b[0;34m()\u001b[0m\n\u001b[1;32m      1\u001b[0m \u001b[0;32mfor\u001b[0m \u001b[0mk\u001b[0m \u001b[0;32min\u001b[0m \u001b[0;34m[\u001b[0m\u001b[0;34m]\u001b[0m\u001b[0;34m:\u001b[0m         \u001b[0;31m# the iterable is empty - the iterate-variable `l` will not be defined\u001b[0m\u001b[0;34m\u001b[0m\u001b[0;34m\u001b[0m\u001b[0m\n\u001b[1;32m      2\u001b[0m     \u001b[0mprint\u001b[0m\u001b[0;34m(\u001b[0m\u001b[0;34m\"Hello?\"\u001b[0m\u001b[0;34m)\u001b[0m  \u001b[0;31m# this code is never executed\u001b[0m\u001b[0;34m\u001b[0m\u001b[0;34m\u001b[0m\u001b[0m\n\u001b[0;32m----> 3\u001b[0;31m \u001b[0mprint\u001b[0m\u001b[0;34m(\u001b[0m\u001b[0mk\u001b[0m\u001b[0;34m)\u001b[0m             \u001b[0;31m# raises an error because `l` was never defined\u001b[0m\u001b[0;34m\u001b[0m\u001b[0;34m\u001b[0m\u001b[0m\n\u001b[0m",
            "\u001b[0;31mNameError\u001b[0m: name 'k' is not defined"
          ]
        }
      ]
    },
    {
      "cell_type": "markdown",
      "metadata": {
        "id": "3jHmoM1bkD29"
      },
      "source": [
        "In given list of integers try to print all contiguous sublist such that sum of element is 17\n",
        "\n",
        "\n",
        "\n",
        "```\n",
        "list=[4,3,8,1,5,0,3,4]\n",
        "#print all contiguous sublists in which sum of elements is 17\n",
        "```\n",
        "\n"
      ]
    },
    {
      "cell_type": "code",
      "metadata": {
        "id": "eERbYn0MlQx9",
        "colab": {
          "base_uri": "https://localhost:8080/"
        },
        "outputId": "2c8ff490-454e-4a41-ca01-0db808cc1d57"
      },
      "source": [
        "l=[4,3,8,1,5,0,3,4]\n",
        "n_size=len(l)\n",
        "for i in range(n_size):\n",
        "  sum=0\n",
        "  for j in range(i,n_size):\n",
        "    sum=sum+l[j]\n",
        "    if(sum==17):\n",
        "      print(l[i:j+1])\n",
        "      break"
      ],
      "execution_count": null,
      "outputs": [
        {
          "output_type": "stream",
          "text": [
            "[3, 8, 1, 5]\n",
            "[8, 1, 5, 0, 3]\n"
          ],
          "name": "stdout"
        }
      ]
    },
    {
      "cell_type": "markdown",
      "metadata": {
        "id": "L-EUPKWmDjny"
      },
      "source": [
        "#### List comprehensions:\n",
        "When programming, frequently we want to transform one type of data into another. As a simple example, consider the following code that computes square numbers:"
      ]
    },
    {
      "cell_type": "code",
      "metadata": {
        "id": "qaLGmh1KDjnz",
        "colab": {
          "base_uri": "https://localhost:8080/"
        },
        "outputId": "f6504f72-287a-4873-99b8-e8e95df00603"
      },
      "source": [
        "nums = [0, 1, 2, 3, 4]\n",
        "squares = []\n",
        "for x in nums:\n",
        "    squares.append(x ** 2)\n",
        "print(squares)"
      ],
      "execution_count": null,
      "outputs": [
        {
          "output_type": "stream",
          "text": [
            "[0, 1, 4, 9, 16]\n"
          ],
          "name": "stdout"
        }
      ]
    },
    {
      "cell_type": "markdown",
      "metadata": {
        "id": "z49JeHHNDjnz"
      },
      "source": [
        "You can make this code simpler using a list comprehension:"
      ]
    },
    {
      "cell_type": "code",
      "metadata": {
        "id": "0o5q94DsDjnz",
        "colab": {
          "base_uri": "https://localhost:8080/"
        },
        "outputId": "e3c7f79e-5a38-4319-a77d-f565036b4e26"
      },
      "source": [
        "nums = [0, 1, 2, 3, 4]\n",
        "squares = [x ** 2 for x in nums]\n",
        "print(squares)"
      ],
      "execution_count": null,
      "outputs": [
        {
          "output_type": "stream",
          "text": [
            "[0, 1, 4, 9, 16]\n"
          ],
          "name": "stdout"
        }
      ]
    },
    {
      "cell_type": "markdown",
      "metadata": {
        "id": "yutgQvD-hj8H"
      },
      "source": [
        "List comprehension offers a shorter syntax when you want to create a new list based on the values of an existing list."
      ]
    },
    {
      "cell_type": "markdown",
      "metadata": {
        "id": "YH6hCp4QDjn0"
      },
      "source": [
        "List comprehensions can also contain conditions:"
      ]
    },
    {
      "cell_type": "code",
      "metadata": {
        "id": "VeeaZPrbDjn0",
        "colab": {
          "base_uri": "https://localhost:8080/"
        },
        "outputId": "5e027e5c-b9d9-499f-cfe9-cce1ed7f44f8"
      },
      "source": [
        "nums = [0, 1, 2, 3, 4]\n",
        "even_squares = [x ** 2 for x in nums if x % 2 == 0]\n",
        "print(even_squares)"
      ],
      "execution_count": null,
      "outputs": [
        {
          "output_type": "stream",
          "text": [
            "[0, 4, 16]\n"
          ],
          "name": "stdout"
        }
      ]
    },
    {
      "cell_type": "markdown",
      "metadata": {
        "id": "ZGW2gg1kDjn1"
      },
      "source": [
        "### Dictionaries\n",
        "A dictionary stores (key, value) pairs.A dictionary is a collection which is unordered, changeable and does not allow duplicates. You can use it like this:"
      ]
    },
    {
      "cell_type": "code",
      "metadata": {
        "id": "eTsmwQ_TDjn1",
        "colab": {
          "base_uri": "https://localhost:8080/"
        },
        "outputId": "cf12b9ef-f8d5-4cc2-c50a-1d02ea53b532"
      },
      "source": [
        "d = {'cat': 'cute', 'dog': 'furry',8:70.2}  # Create a new dictionary with some data\n",
        "print(d['dog'])       # Get an entry from a dictionary; prints \"cute\"\n",
        "print('monkey' in d)     # Check if a dictionary has a given key; prints \"True\"\n"
      ],
      "execution_count": null,
      "outputs": [
        {
          "output_type": "stream",
          "text": [
            "furry\n",
            "False\n"
          ],
          "name": "stdout"
        }
      ]
    },
    {
      "cell_type": "code",
      "metadata": {
        "id": "eWlITYqqDjn1",
        "colab": {
          "base_uri": "https://localhost:8080/"
        },
        "outputId": "5b55e299-a9a2-4405-a981-2cf0d913ac41"
      },
      "source": [
        "d['fish'] = 'wet'    # Set an entry in a dictionary\n",
        "print(d['fish'])      # Prints \"wet\""
      ],
      "execution_count": null,
      "outputs": [
        {
          "output_type": "stream",
          "text": [
            "wet\n"
          ],
          "name": "stdout"
        }
      ]
    },
    {
      "cell_type": "code",
      "metadata": {
        "id": "jARSlZIXlKeO",
        "colab": {
          "base_uri": "https://localhost:8080/"
        },
        "outputId": "eae71174-de5e-460f-9dbb-814e06c250d8"
      },
      "source": [
        "print(d)"
      ],
      "execution_count": null,
      "outputs": [
        {
          "output_type": "stream",
          "text": [
            "{'cat': 'cute', 'dog': 'furry', 8: 70.2, 'fish': 'wet'}\n"
          ],
          "name": "stdout"
        }
      ]
    },
    {
      "cell_type": "code",
      "metadata": {
        "id": "Ep_pcgZwDjn2",
        "colab": {
          "base_uri": "https://localhost:8080/",
          "height": 166
        },
        "outputId": "ac1fe020-b983-4bf8-f313-e3c615f59c5e"
      },
      "source": [
        "print(d['monkey'])  # KeyError: 'monkey' not a key of d"
      ],
      "execution_count": null,
      "outputs": [
        {
          "output_type": "error",
          "ename": "KeyError",
          "evalue": "ignored",
          "traceback": [
            "\u001b[0;31m---------------------------------------------------------------------------\u001b[0m",
            "\u001b[0;31mKeyError\u001b[0m                                  Traceback (most recent call last)",
            "\u001b[0;32m<ipython-input-53-78fc9745d9cf>\u001b[0m in \u001b[0;36m<module>\u001b[0;34m()\u001b[0m\n\u001b[0;32m----> 1\u001b[0;31m \u001b[0mprint\u001b[0m\u001b[0;34m(\u001b[0m\u001b[0md\u001b[0m\u001b[0;34m[\u001b[0m\u001b[0;34m'monkey'\u001b[0m\u001b[0;34m]\u001b[0m\u001b[0;34m)\u001b[0m  \u001b[0;31m# KeyError: 'monkey' not a key of d\u001b[0m\u001b[0;34m\u001b[0m\u001b[0;34m\u001b[0m\u001b[0m\n\u001b[0m",
            "\u001b[0;31mKeyError\u001b[0m: 'monkey'"
          ]
        }
      ]
    },
    {
      "cell_type": "code",
      "metadata": {
        "id": "UDzFS7tuDjn2",
        "colab": {
          "base_uri": "https://localhost:8080/"
        },
        "outputId": "41c3f385-fe94-43e0-8551-a63306c7732b"
      },
      "source": [
        "print(d.get('monkey', \"not present\"))  # Get an element with a default; prints \"N/A\"\n",
        "print(d.get('fish', 'Not available'))    # Get an element with a default; prints \"wet\""
      ],
      "execution_count": null,
      "outputs": [
        {
          "output_type": "stream",
          "text": [
            "not present\n",
            "wet\n"
          ],
          "name": "stdout"
        }
      ]
    },
    {
      "cell_type": "code",
      "metadata": {
        "id": "7hGRL437Djn2",
        "colab": {
          "base_uri": "https://localhost:8080/"
        },
        "outputId": "eefc8e64-fbf7-4ccc-88a2-d92c90d2c295"
      },
      "source": [
        "del d['fish']        # Remove an element from a dictionary\n",
        "print(d.get('fish', 'N/A')) # \"fish\" is no longer a key; prints \"N/A\""
      ],
      "execution_count": null,
      "outputs": [
        {
          "output_type": "stream",
          "text": [
            "N/A\n"
          ],
          "name": "stdout"
        }
      ]
    },
    {
      "cell_type": "markdown",
      "metadata": {
        "id": "DUR3lOZQDjn3"
      },
      "source": [
        "You can find all you need to know about dictionaries in the [documentation](https://docs.python.org/2/library/stdtypes.html#dict)."
      ]
    },
    {
      "cell_type": "markdown",
      "metadata": {
        "id": "GuHv1fCgDjn3"
      },
      "source": [
        "It is easy to iterate over the keys in a dictionary:"
      ]
    },
    {
      "cell_type": "code",
      "metadata": {
        "id": "-rzScY7ZDjn3",
        "colab": {
          "base_uri": "https://localhost:8080/"
        },
        "outputId": "56cc77a5-2af1-4852-9246-09cbaded2039"
      },
      "source": [
        "d = {'person': 2, 'cat': 4, 'spider': 8,'ant':6}\n",
        "vowels=['a','e','i','o','u']\n",
        "for animal, legs in d.items():\n",
        "    if(animal[0].lower() in vowels):\n",
        "      print('An {} has {} legs'.format(animal, legs))\n",
        "    else:\n",
        "      print('A {} has {} legs'.format(animal, legs))"
      ],
      "execution_count": null,
      "outputs": [
        {
          "output_type": "stream",
          "text": [
            "A person has 2 legs\n",
            "A cat has 4 legs\n",
            "A spider has 8 legs\n",
            "An ant has 6 legs\n"
          ],
          "name": "stdout"
        }
      ]
    },
    {
      "cell_type": "markdown",
      "metadata": {
        "id": "ZTTgaazbDjn4"
      },
      "source": [
        "Dictionary comprehensions: These are similar to list comprehensions, but allow you to easily construct dictionaries. For example:"
      ]
    },
    {
      "cell_type": "code",
      "metadata": {
        "id": "KFgSDuekDjn4",
        "colab": {
          "base_uri": "https://localhost:8080/"
        },
        "outputId": "8180c1e4-3a85-4568-b5b8-dd5730941986"
      },
      "source": [
        "\n",
        "nums = [0, 1, 2, 3, 4]\n",
        "even_num_to_square = {x: x ** 2 for x in nums }\n",
        "print(even_num_to_square)"
      ],
      "execution_count": null,
      "outputs": [
        {
          "output_type": "stream",
          "text": [
            "{0: 0, 1: 1, 2: 4, 3: 9, 4: 16}\n"
          ],
          "name": "stdout"
        }
      ]
    },
    {
      "cell_type": "markdown",
      "metadata": {
        "id": "mnXGJUwp1JhV"
      },
      "source": [
        "**Ques:**\n",
        "Write a Python program to count the number of characters (character frequency) in a string. so basically you need to output a dictionary with characters as key and their frequency as value\n",
        "\n",
        "Sample String : '**google.com**'\n",
        "\n",
        "Expected Result : {'g': 2, 'o': 3, 'l': 1, 'e': 1, '.': 1, 'c': 1, 'm': 1}"
      ]
    },
    {
      "cell_type": "code",
      "metadata": {
        "id": "z34XPBJX2Fn1",
        "colab": {
          "base_uri": "https://localhost:8080/"
        },
        "outputId": "ba7f61a5-0152-4892-e12c-7006829e2b27"
      },
      "source": [
        "str1='google.com'\n",
        "dict={}\n",
        "for n in str1:\n",
        "  keys=dict.keys()\n",
        "  if n in keys:\n",
        "    dict[n]+=1\n",
        "  else:\n",
        "    dict[n]=1\n",
        "print(dict)"
      ],
      "execution_count": null,
      "outputs": [
        {
          "output_type": "stream",
          "text": [
            "{'g': 2, 'o': 3, 'l': 1, 'e': 1, '.': 1, 'c': 1, 'm': 1}\n"
          ],
          "name": "stdout"
        }
      ]
    },
    {
      "cell_type": "markdown",
      "metadata": {
        "id": "HQEk4tv561am"
      },
      "source": [
        "**Ques**:Write a Python program to get a string from a given string where all occurrences of its first char have been changed to '&', except the first char itself.\n",
        "\n",
        "Sample String : 'restart'\n",
        "\n",
        "Expected Result : 'resta&t'"
      ]
    },
    {
      "cell_type": "code",
      "metadata": {
        "id": "A23A3tvZ607x",
        "colab": {
          "base_uri": "https://localhost:8080/"
        },
        "outputId": "8532c094-6d95-47cf-cf36-f04fefb123a6"
      },
      "source": [
        "#write your code here\n",
        "str1=\"restart\"\n",
        "char=str1[0]\n",
        "str1 = str1.replace(char,'&')\n",
        "str1=char+str1[1:]\n",
        "print(str1)\n"
      ],
      "execution_count": null,
      "outputs": [
        {
          "output_type": "stream",
          "text": [
            "resta&t\n"
          ],
          "name": "stdout"
        }
      ]
    },
    {
      "cell_type": "markdown",
      "metadata": {
        "id": "q-Z-SBxeDjn4"
      },
      "source": [
        "### Sets\n",
        "A set is an unordered collection of distinct elements. As a simple example, consider the following:"
      ]
    },
    {
      "cell_type": "code",
      "metadata": {
        "id": "rLTDy6PCDjn4",
        "colab": {
          "base_uri": "https://localhost:8080/"
        },
        "outputId": "c0766f43-d827-45aa-e833-5880548a660b"
      },
      "source": [
        "animals = {'cat', 'dog',8,9.0}\n",
        "print('cat' in animals)   # Check if an element is in a set; prints \"True\"\n",
        "print('fish' in animals)  # prints \"False\"\n",
        "print(animals)"
      ],
      "execution_count": null,
      "outputs": [
        {
          "output_type": "stream",
          "text": [
            "True\n",
            "False\n",
            "{8, 9.0, 'cat', 'dog'}\n"
          ],
          "name": "stdout"
        }
      ]
    },
    {
      "cell_type": "code",
      "metadata": {
        "id": "3GZN7SXeDjn5",
        "colab": {
          "base_uri": "https://localhost:8080/"
        },
        "outputId": "4f996270-d373-47f3-dd21-9e9978c398ab"
      },
      "source": [
        "animals.add('fish')      # Add an element to a set\n",
        "print('fish' in animals)\n",
        "print(len(animals))       # Number of elements in a set;"
      ],
      "execution_count": null,
      "outputs": [
        {
          "output_type": "stream",
          "text": [
            "True\n",
            "5\n"
          ],
          "name": "stdout"
        }
      ]
    },
    {
      "cell_type": "code",
      "metadata": {
        "id": "jysgYhUjDjn6",
        "colab": {
          "base_uri": "https://localhost:8080/"
        },
        "outputId": "97448083-e7f8-4686-f847-70c214f4e8d8"
      },
      "source": [
        "j=8\n",
        "animals.add(j)       # Adding an element that is already in the set does nothing\n",
        "print(len(animals))\n",
        "print(animals)\n",
        "animals.remove(j)    # Remove an element from a set\n",
        "print(len(animals))\n",
        "print(animals)"
      ],
      "execution_count": null,
      "outputs": [
        {
          "output_type": "stream",
          "text": [
            "4\n",
            "{8, 9.0, 'cat', 'dog'}\n",
            "3\n",
            "{9.0, 'cat', 'dog'}\n"
          ],
          "name": "stdout"
        }
      ]
    },
    {
      "cell_type": "markdown",
      "metadata": {
        "id": "2oJSAmYqDjn6"
      },
      "source": [
        "_Loops_: Iterating over a set has the same syntax as iterating over a list; however since sets are unordered, you cannot make assumptions about the order in which you visit the elements of the set:"
      ]
    },
    {
      "cell_type": "code",
      "metadata": {
        "id": "XWfdt8PmDjn6",
        "colab": {
          "base_uri": "https://localhost:8080/"
        },
        "outputId": "fbfad6b1-2aa7-44e9-c4ce-3925c169bef6"
      },
      "source": [
        "animals = {'cat', 'dog', 'fish'}\n",
        "for idx, animal in enumerate(animals):\n",
        "    print('#{}: {}'.format(idx + 1, animal))"
      ],
      "execution_count": null,
      "outputs": [
        {
          "output_type": "stream",
          "text": [
            "#1: fish\n",
            "#2: cat\n",
            "#3: dog\n"
          ],
          "name": "stdout"
        }
      ]
    },
    {
      "cell_type": "markdown",
      "metadata": {
        "id": "u8xuNOsLDjn7"
      },
      "source": [
        "Set comprehensions: Like lists and dictionaries, we can easily construct sets using set comprehensions:"
      ]
    },
    {
      "cell_type": "code",
      "metadata": {
        "id": "6Hb1d_PMDjn7",
        "colab": {
          "base_uri": "https://localhost:8080/"
        },
        "outputId": "f5a55f09-e587-4ce3-9b21-a310ad41e87e"
      },
      "source": [
        "from math import sqrt\n",
        "print({int(sqrt(x)) for x in range(30)})"
      ],
      "execution_count": null,
      "outputs": [
        {
          "output_type": "stream",
          "text": [
            "{0, 1, 2, 3, 4, 5}\n"
          ],
          "name": "stdout"
        }
      ]
    },
    {
      "cell_type": "markdown",
      "metadata": {
        "id": "B3-s_um8Djn7"
      },
      "source": [
        "### Tuples\n",
        "A tuple is an (immutable) ordered list of values. A tuple is in many ways similar to a list; one of the most important differences is that tuples can be used as keys in dictionaries and as elements of sets, while lists cannot. Here is a trivial example:"
      ]
    },
    {
      "cell_type": "code",
      "metadata": {
        "id": "QDru45qfDjn8",
        "colab": {
          "base_uri": "https://localhost:8080/"
        },
        "outputId": "20690223-ca39-41cb-fdfc-47bd9f28f143"
      },
      "source": [
        "d = {(x, x + 1): x for x in range(10)}  # Create a dictionary with tuple keys\n",
        "t = (5, 6)       # Create a tuple\n",
        "print(type(t))\n",
        "print(d[t])\n",
        "print(d[(1, 2)])\n",
        "print(d)"
      ],
      "execution_count": null,
      "outputs": [
        {
          "output_type": "stream",
          "text": [
            "<class 'tuple'>\n",
            "5\n",
            "1\n",
            "{(0, 1): 0, (1, 2): 1, (2, 3): 2, (3, 4): 3, (4, 5): 4, (5, 6): 5, (6, 7): 6, (7, 8): 7, (8, 9): 8, (9, 10): 9}\n"
          ],
          "name": "stdout"
        }
      ]
    },
    {
      "cell_type": "code",
      "metadata": {
        "id": "rZ1NgoWbDjn8",
        "colab": {
          "base_uri": "https://localhost:8080/"
        },
        "outputId": "59c27c33-ce47-4632-d1d4-1e06d293b91a"
      },
      "source": [
        "t[1]                          # assignment of new value in tupple throw error"
      ],
      "execution_count": null,
      "outputs": [
        {
          "output_type": "execute_result",
          "data": {
            "text/plain": [
              "6"
            ]
          },
          "metadata": {
            "tags": []
          },
          "execution_count": 69
        }
      ]
    },
    {
      "cell_type": "markdown",
      "metadata": {
        "id": "eb2gFmZnDjn8"
      },
      "source": [
        "## Functions\n",
        "---\n",
        "In Python, a function is a group of related statements that performs a specific task.\n",
        "\n",
        "Functions help break our program into smaller and modular chunks. As our program grows larger and larger, functions make it more organized and manageable.\n",
        "\n",
        "Furthermore, it avoids repetition and makes the code reusable.\n",
        "\n",
        "Python functions are defined using the def keyword. For example:\n",
        "\n",
        "## Syntax of function\n",
        "def function_name( parameter_1 , parameter_2 .....) :    \n",
        "&nbsp;&nbsp;&nbsp;&nbsp;*chunk of code*             \n",
        "&nbsp;&nbsp;&nbsp;&nbsp;statements and tasks_1  \n",
        "&nbsp;&nbsp;&nbsp;&nbsp;statements and tasks_2  \n",
        "&nbsp;&nbsp;&nbsp;&nbsp;...  \n",
        "&nbsp;&nbsp;&nbsp;&nbsp;...  \n",
        "&nbsp;&nbsp;&nbsp;&nbsp;...  \n",
        "\n",
        "&nbsp;&nbsp;&nbsp;&nbsp;return answer                                       \n",
        "\n",
        "\n",
        "\n",
        "\n",
        "\n",
        "\n",
        "statement_1  \n",
        "statement_2  \n",
        "...  \n",
        "function_name(p1 , p2 ....)                          # calling the function  \n",
        "statement_3  \n",
        "statement_4  \n",
        "...  \n",
        "function_name(p1 , p2 ....)                           # calling the function  \n",
        "statement_5  \n",
        "..."
      ]
    },
    {
      "cell_type": "code",
      "metadata": {
        "id": "pvc3GKNHGPjQ"
      },
      "source": [
        "# function to take maximum of two numbers\n",
        "def maxx( a , b) :\n",
        "  if a > b :\n",
        "    return a\n",
        "  else :\n",
        "    return b\n",
        "\n",
        "\n",
        "\n",
        "\n",
        "x, y = int(input()) , int(input())\n",
        "ans = maxx(x,y)\n",
        "print(ans)"
      ],
      "execution_count": null,
      "outputs": []
    },
    {
      "cell_type": "code",
      "metadata": {
        "id": "YtRhjnpIkbzz"
      },
      "source": [
        "def foo_no_return(a) :\n",
        "  print('Function with no return and a number %d' % a)\n",
        "\n",
        "\n",
        "foo_no_return(5)"
      ],
      "execution_count": null,
      "outputs": []
    },
    {
      "cell_type": "code",
      "metadata": {
        "id": "APLvXaVYDjn9"
      },
      "source": [
        "def sign(x):\n",
        "    if x > 0:\n",
        "        return 'positive'\n",
        "    elif x < 0:\n",
        "        return 'negative'\n",
        "    else:\n",
        "        return 'zero'\n",
        "\n",
        "for x in [-1, 0, 1]:\n",
        "    print(sign(x))"
      ],
      "execution_count": null,
      "outputs": []
    },
    {
      "cell_type": "markdown",
      "metadata": {
        "id": "8F5OIaaLDjn9"
      },
      "source": [
        "Above shown is a function definition that consists of the following components.\n",
        "\n",
        "- Keyword def that marks the start of the function header.\n",
        "- A function name to uniquely identify the function. Function naming follows the same rules of writing identifiers in Python.\n",
        "- Parameters (arguments) through which we pass values to a function. They are optional.\n",
        "- A colon (:) to mark the end of the function header.\n",
        "- Optional documentation string (docstring) to describe what the function does.\n",
        "- One or more valid python statements that make up the function body. Statements must have the same indentation level (usually 4 spaces).\n",
        "- An optional return statement to return a value from the function.\n",
        "\n",
        "We will often define functions to take optional keyword arguments, like this:"
      ]
    },
    {
      "cell_type": "code",
      "metadata": {
        "id": "l7T3NHtPDjn9"
      },
      "source": [
        "def hello(name, loud=False):\n",
        "    if loud:\n",
        "        print('HELLO, %s' %(name.upper()))\n",
        "    else:\n",
        "        print('Hello, %s!' %(name))\n",
        "\n",
        "hello('Bob')\n",
        "hello('Fred', loud=True)"
      ],
      "execution_count": null,
      "outputs": []
    },
    {
      "cell_type": "code",
      "metadata": {
        "id": "CIwLFKZNnfq1"
      },
      "source": [
        "marks = [22, 23.5, 32, 33, 27, 28, 33.5, 31, 25, 12, 25.5, 29]\n",
        "\n",
        "# using the function maxx above (don't change it) and find the maximum marks"
      ],
      "execution_count": null,
      "outputs": []
    },
    {
      "cell_type": "markdown",
      "metadata": {
        "id": "NvQWYg5qDjn9"
      },
      "source": [
        "## Recursive functions in Python\n",
        "\n",
        "A recursive function is a function defined according to itself.\n",
        "\n",
        "Another way of putting it is that it is a self-referential function; the function **calls itself**.\n",
        "\n",
        "Consider this example:\n",
        "\n",
        "```\n",
        "def my_function():\n",
        "    print('Hi!')\n",
        "    my_function()\n",
        "```"
      ]
    },
    {
      "cell_type": "markdown",
      "metadata": {
        "id": "14glFYR6Djn-"
      },
      "source": [
        "Calling `my_function()` will first print the string `'Hi!'` and then call `my_function()`.\n",
        "\n",
        "This second `my_function()` will in turn print `'Hi!'` and call a third `my_function()`, and so on.\n",
        "\n",
        "![Recursion](https://cdn.programiz.com/sites/tutorial2program/files/python-recursion-function.png)\n",
        "\n",
        "*(Side note: You can also see that this will eventually lead to your program crashing.*\n",
        "\n",
        "*Each time a recursive function calls itself, we say that a \"stack frame\" is added to the \"call stack\"; the call stack refers to the total layers of recursion. When this number gets bigger than what the system can handle, we get an error that is called **'stack overflow'**.*\n",
        "\n",
        "*Therefore, recursive functions need to have an exit condition / termination condition.)*\n",
        "\n",
        "But why would someone need recursive functions when you can simply use an infinite loop like this to break your computer?\n",
        "```\n",
        "while True:\n",
        "    print('Hi!')\n",
        "```\n",
        "In other words, how is recursion different from iteration?\n",
        "\n",
        "One justification for using recursion is that it allows you to conceptualize some large problems as sets of smaller and possibly easier-to-handle problems.\n",
        "\n",
        "First, let's look at an example that might be of similar complexity when using loops or recursion.\n",
        "\n",
        "https://en.wikipedia.org/wiki/Factorial\n",
        "\n",
        "> In mathematics, the factorial of a positive integer n, denoted by n!, is the product of all positive integers less than or equal to n:\n",
        ">\n",
        "> n! = n × ( n − 1 ) × ( n − 2 ) × ( n − 3 ) × ⋯ × 3 × 2 × 1 .\n",
        ">\n",
        "> For example, 5! = 5 × 4 × 3 × 2 × 1 = 120 .\n",
        "\n",
        "Your goal is to write a function that returns the factorial of a given input `n`."
      ]
    },
    {
      "cell_type": "code",
      "metadata": {
        "id": "yLHCgeEIDjn-"
      },
      "source": [
        "def factorial(x):\n",
        "    \"\"\"This is a recursive function\n",
        "    to find the factorial of an integer\"\"\"\n",
        "\n",
        "    if x == 1:\n",
        "        return 1\n",
        "    else:\n",
        "        return (x * factorial(x-1))\n",
        "\n",
        "\n",
        "num = 3\n",
        "print(\"The factorial of\", num, \"is\", factorial(num))"
      ],
      "execution_count": null,
      "outputs": []
    },
    {
      "cell_type": "markdown",
      "metadata": {
        "id": "sLK5VfcBDjn-"
      },
      "source": [
        "In the above example, factorial() is a recursive function as it calls itself.\n",
        "\n",
        "When we call this function with a positive integer, it will recursively call itself by decreasing the number.\n",
        "\n",
        "Each function multiplies the number with the factorial of the number below it until it is equal to one. This recursive call can be explained in the following steps.\n",
        "```\n",
        "factorial(3)          # 1st call with 3\n",
        "3 * factorial(2)      # 2nd call with 2\n",
        "3 * 2 * factorial(1)  # 3rd call with 1\n",
        "3 * 2 * 1             # return from 3rd call as number=1\n",
        "3 * 2                 # return from 2nd call\n",
        "6                     # return from 1st call\n",
        "```\n",
        "Let's look at an image that shows a step-by-step process of what is going on:\n",
        "![factorial](https://cdn.programiz.com/sites/tutorial2program/files/python-factorial-function.png)\n",
        "Our recursion ends when the number reduces to 1. This is called the base condition.\n",
        "\n",
        "Every recursive function must have a base condition that stops the recursion or else the function calls itself infinitely.\n",
        "\n",
        "The Python interpreter limits the depths of recursion to help avoid infinite recursions, resulting in stack overflows.\n",
        "\n",
        "By default, the maximum depth of recursion is `1000`. If the limit is crossed, it results in `RecursionError`. Let's look at one such condition.\n"
      ]
    },
    {
      "cell_type": "code",
      "metadata": {
        "id": "L4GBy7dkDjn_"
      },
      "source": [
        "# def recursor():\n",
        "    # recursor()\n",
        "# recursor()"
      ],
      "execution_count": null,
      "outputs": []
    },
    {
      "cell_type": "code",
      "metadata": {
        "id": "Qb3DGfvDvYo2"
      },
      "source": [
        "# fibonacci : 0 , 1, 1, 2, 3, 5, 8, 13 ....\n",
        "\n",
        "#fibo(0) = 0\n",
        "# fibo(1) = 1\n",
        "# fibo(n) = fibo(n-1) +fibo(n-2)\n",
        "\n",
        "\n",
        "def fibo(a):\n",
        "  if a < 2:\n",
        "    return a\n",
        "  else :\n",
        "    return fibo(a-1) + fibo(a-2)\n",
        "\n",
        "a = int(input('Enter a number: '))\n",
        "fibo(a)"
      ],
      "execution_count": null,
      "outputs": []
    },
    {
      "cell_type": "code",
      "metadata": {
        "id": "12up0p6AvRu9"
      },
      "source": [
        "# Collatz conjecture\n",
        "\n",
        "# f(n) = 3*n + 1  n == odd;\n",
        "# f(n) = n/2      n == even;\n",
        "\n",
        "# This function always converge to 1\n",
        "\n",
        "def foo(a):\n",
        "  print('%d '%a)\n",
        "  if a == 1 :\n",
        "    return True\n",
        "  if a%2 == 1:\n",
        "    return foo(3*a+1)\n",
        "  else :\n",
        "    return foo(a/2)\n",
        "\n",
        "\n",
        "\n",
        "x = int(input())\n",
        "print(foo(x))"
      ],
      "execution_count": null,
      "outputs": []
    },
    {
      "cell_type": "code",
      "metadata": {
        "id": "v-lHmQXNv8wX"
      },
      "source": [
        "\n"
      ],
      "execution_count": null,
      "outputs": []
    }
  ]
}
